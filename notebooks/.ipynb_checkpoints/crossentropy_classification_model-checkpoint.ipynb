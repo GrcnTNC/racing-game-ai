{
 "cells": [
  {
   "cell_type": "code",
   "execution_count": 1,
   "metadata": {},
   "outputs": [
    {
     "name": "stderr",
     "output_type": "stream",
     "text": [
      "Using TensorFlow backend.\n"
     ]
    }
   ],
   "source": [
    "from numpy import loadtxt\n",
    "from keras.models import Sequential\n",
    "from keras.layers import Dense, Dropout, Activation\n",
    "import pandas as pd\n",
    "from sklearn.model_selection import train_test_split\n",
    "import random\n",
    "import keras"
   ]
  },
  {
   "cell_type": "code",
   "execution_count": 5,
   "metadata": {
    "scrolled": true
   },
   "outputs": [
    {
     "data": {
      "text/plain": [
       "'/Users/kamranelchuzade/Desktop/racing-game-ai/notebooks'"
      ]
     },
     "execution_count": 5,
     "metadata": {},
     "output_type": "execute_result"
    }
   ],
   "source": [
    "pwd"
   ]
  },
  {
   "cell_type": "code",
   "execution_count": 2,
   "metadata": {},
   "outputs": [
    {
     "data": {
      "text/html": [
       "<div>\n",
       "<style scoped>\n",
       "    .dataframe tbody tr th:only-of-type {\n",
       "        vertical-align: middle;\n",
       "    }\n",
       "\n",
       "    .dataframe tbody tr th {\n",
       "        vertical-align: top;\n",
       "    }\n",
       "\n",
       "    .dataframe thead th {\n",
       "        text-align: right;\n",
       "    }\n",
       "</style>\n",
       "<table border=\"1\" class=\"dataframe\">\n",
       "  <thead>\n",
       "    <tr style=\"text-align: right;\">\n",
       "      <th></th>\n",
       "      <th>Unnamed: 0</th>\n",
       "      <th>0</th>\n",
       "      <th>1</th>\n",
       "      <th>2</th>\n",
       "      <th>3</th>\n",
       "      <th>4</th>\n",
       "    </tr>\n",
       "  </thead>\n",
       "  <tbody>\n",
       "    <tr>\n",
       "      <td>0</td>\n",
       "      <td>0</td>\n",
       "      <td>1</td>\n",
       "      <td>6</td>\n",
       "      <td>6</td>\n",
       "      <td>6</td>\n",
       "      <td>0</td>\n",
       "    </tr>\n",
       "    <tr>\n",
       "      <td>1</td>\n",
       "      <td>1</td>\n",
       "      <td>0</td>\n",
       "      <td>6</td>\n",
       "      <td>6</td>\n",
       "      <td>6</td>\n",
       "      <td>1</td>\n",
       "    </tr>\n",
       "    <tr>\n",
       "      <td>2</td>\n",
       "      <td>2</td>\n",
       "      <td>0</td>\n",
       "      <td>5</td>\n",
       "      <td>6</td>\n",
       "      <td>6</td>\n",
       "      <td>2</td>\n",
       "    </tr>\n",
       "    <tr>\n",
       "      <td>3</td>\n",
       "      <td>3</td>\n",
       "      <td>1</td>\n",
       "      <td>4</td>\n",
       "      <td>6</td>\n",
       "      <td>6</td>\n",
       "      <td>1</td>\n",
       "    </tr>\n",
       "    <tr>\n",
       "      <td>4</td>\n",
       "      <td>4</td>\n",
       "      <td>1</td>\n",
       "      <td>3</td>\n",
       "      <td>6</td>\n",
       "      <td>5</td>\n",
       "      <td>1</td>\n",
       "    </tr>\n",
       "  </tbody>\n",
       "</table>\n",
       "</div>"
      ],
      "text/plain": [
       "   Unnamed: 0  0  1  2  3  4\n",
       "0           0  1  6  6  6  0\n",
       "1           1  0  6  6  6  1\n",
       "2           2  0  5  6  6  2\n",
       "3           3  1  4  6  6  1\n",
       "4           4  1  3  6  5  1"
      ]
     },
     "execution_count": 2,
     "metadata": {},
     "output_type": "execute_result"
    }
   ],
   "source": [
    "df = pd.read_csv('file20000.csv')\n",
    "df.head()"
   ]
  },
  {
   "cell_type": "code",
   "execution_count": 3,
   "metadata": {},
   "outputs": [],
   "source": [
    "df = df.drop('Unnamed: 0', 1)"
   ]
  },
  {
   "cell_type": "code",
   "execution_count": 4,
   "metadata": {
    "scrolled": true
   },
   "outputs": [
    {
     "data": {
      "text/html": [
       "<div>\n",
       "<style scoped>\n",
       "    .dataframe tbody tr th:only-of-type {\n",
       "        vertical-align: middle;\n",
       "    }\n",
       "\n",
       "    .dataframe tbody tr th {\n",
       "        vertical-align: top;\n",
       "    }\n",
       "\n",
       "    .dataframe thead th {\n",
       "        text-align: right;\n",
       "    }\n",
       "</style>\n",
       "<table border=\"1\" class=\"dataframe\">\n",
       "  <thead>\n",
       "    <tr style=\"text-align: right;\">\n",
       "      <th></th>\n",
       "      <th>0</th>\n",
       "      <th>1</th>\n",
       "      <th>2</th>\n",
       "      <th>3</th>\n",
       "      <th>4</th>\n",
       "    </tr>\n",
       "  </thead>\n",
       "  <tbody>\n",
       "    <tr>\n",
       "      <td>count</td>\n",
       "      <td>10000.000000</td>\n",
       "      <td>10000.000000</td>\n",
       "      <td>10000.000000</td>\n",
       "      <td>10000.000000</td>\n",
       "      <td>10000.000000</td>\n",
       "    </tr>\n",
       "    <tr>\n",
       "      <td>mean</td>\n",
       "      <td>0.963500</td>\n",
       "      <td>3.084700</td>\n",
       "      <td>3.229200</td>\n",
       "      <td>3.184200</td>\n",
       "      <td>1.000100</td>\n",
       "    </tr>\n",
       "    <tr>\n",
       "      <td>std</td>\n",
       "      <td>0.790968</td>\n",
       "      <td>2.288722</td>\n",
       "      <td>2.307466</td>\n",
       "      <td>2.297302</td>\n",
       "      <td>0.416314</td>\n",
       "    </tr>\n",
       "    <tr>\n",
       "      <td>min</td>\n",
       "      <td>0.000000</td>\n",
       "      <td>0.000000</td>\n",
       "      <td>0.000000</td>\n",
       "      <td>0.000000</td>\n",
       "      <td>0.000000</td>\n",
       "    </tr>\n",
       "    <tr>\n",
       "      <td>25%</td>\n",
       "      <td>0.000000</td>\n",
       "      <td>1.000000</td>\n",
       "      <td>1.000000</td>\n",
       "      <td>1.000000</td>\n",
       "      <td>1.000000</td>\n",
       "    </tr>\n",
       "    <tr>\n",
       "      <td>50%</td>\n",
       "      <td>1.000000</td>\n",
       "      <td>3.000000</td>\n",
       "      <td>3.000000</td>\n",
       "      <td>3.000000</td>\n",
       "      <td>1.000000</td>\n",
       "    </tr>\n",
       "    <tr>\n",
       "      <td>75%</td>\n",
       "      <td>2.000000</td>\n",
       "      <td>6.000000</td>\n",
       "      <td>6.000000</td>\n",
       "      <td>6.000000</td>\n",
       "      <td>1.000000</td>\n",
       "    </tr>\n",
       "    <tr>\n",
       "      <td>max</td>\n",
       "      <td>2.000000</td>\n",
       "      <td>6.000000</td>\n",
       "      <td>6.000000</td>\n",
       "      <td>6.000000</td>\n",
       "      <td>2.000000</td>\n",
       "    </tr>\n",
       "  </tbody>\n",
       "</table>\n",
       "</div>"
      ],
      "text/plain": [
       "                  0             1             2             3             4\n",
       "count  10000.000000  10000.000000  10000.000000  10000.000000  10000.000000\n",
       "mean       0.963500      3.084700      3.229200      3.184200      1.000100\n",
       "std        0.790968      2.288722      2.307466      2.297302      0.416314\n",
       "min        0.000000      0.000000      0.000000      0.000000      0.000000\n",
       "25%        0.000000      1.000000      1.000000      1.000000      1.000000\n",
       "50%        1.000000      3.000000      3.000000      3.000000      1.000000\n",
       "75%        2.000000      6.000000      6.000000      6.000000      1.000000\n",
       "max        2.000000      6.000000      6.000000      6.000000      2.000000"
      ]
     },
     "execution_count": 4,
     "metadata": {},
     "output_type": "execute_result"
    }
   ],
   "source": [
    "df.describe()"
   ]
  },
  {
   "cell_type": "code",
   "execution_count": null,
   "metadata": {},
   "outputs": [],
   "source": []
  },
  {
   "cell_type": "code",
   "execution_count": 5,
   "metadata": {
    "scrolled": false
   },
   "outputs": [
    {
     "data": {
      "text/html": [
       "<div>\n",
       "<style scoped>\n",
       "    .dataframe tbody tr th:only-of-type {\n",
       "        vertical-align: middle;\n",
       "    }\n",
       "\n",
       "    .dataframe tbody tr th {\n",
       "        vertical-align: top;\n",
       "    }\n",
       "\n",
       "    .dataframe thead th {\n",
       "        text-align: right;\n",
       "    }\n",
       "</style>\n",
       "<table border=\"1\" class=\"dataframe\">\n",
       "  <thead>\n",
       "    <tr style=\"text-align: right;\">\n",
       "      <th></th>\n",
       "      <th>MyPosition</th>\n",
       "      <th>leftLine</th>\n",
       "      <th>MidLine</th>\n",
       "      <th>RightLine</th>\n",
       "      <th>Action</th>\n",
       "    </tr>\n",
       "  </thead>\n",
       "  <tbody>\n",
       "    <tr>\n",
       "      <td>0</td>\n",
       "      <td>1</td>\n",
       "      <td>6</td>\n",
       "      <td>6</td>\n",
       "      <td>6</td>\n",
       "      <td>0</td>\n",
       "    </tr>\n",
       "    <tr>\n",
       "      <td>1</td>\n",
       "      <td>0</td>\n",
       "      <td>6</td>\n",
       "      <td>6</td>\n",
       "      <td>6</td>\n",
       "      <td>1</td>\n",
       "    </tr>\n",
       "    <tr>\n",
       "      <td>2</td>\n",
       "      <td>0</td>\n",
       "      <td>5</td>\n",
       "      <td>6</td>\n",
       "      <td>6</td>\n",
       "      <td>2</td>\n",
       "    </tr>\n",
       "    <tr>\n",
       "      <td>3</td>\n",
       "      <td>1</td>\n",
       "      <td>4</td>\n",
       "      <td>6</td>\n",
       "      <td>6</td>\n",
       "      <td>1</td>\n",
       "    </tr>\n",
       "    <tr>\n",
       "      <td>4</td>\n",
       "      <td>1</td>\n",
       "      <td>3</td>\n",
       "      <td>6</td>\n",
       "      <td>5</td>\n",
       "      <td>1</td>\n",
       "    </tr>\n",
       "  </tbody>\n",
       "</table>\n",
       "</div>"
      ],
      "text/plain": [
       "   MyPosition  leftLine  MidLine  RightLine  Action\n",
       "0           1         6        6          6       0\n",
       "1           0         6        6          6       1\n",
       "2           0         5        6          6       2\n",
       "3           1         4        6          6       1\n",
       "4           1         3        6          5       1"
      ]
     },
     "execution_count": 5,
     "metadata": {},
     "output_type": "execute_result"
    }
   ],
   "source": [
    "# Action ( Left: 0, Stay: 1, Right: 2 )\n",
    "df.rename(columns={'0': 'MyPosition', '1': 'leftLine', '2': 'MidLine', '3': 'RightLine', '4': 'Action'}, inplace=True)\n",
    "df.head()"
   ]
  },
  {
   "cell_type": "code",
   "execution_count": 11,
   "metadata": {},
   "outputs": [
    {
     "data": {
      "text/plain": [
       "2.0    867\n",
       "0.0    866\n",
       "1.0    816\n",
       "Name: Action, dtype: int64"
      ]
     },
     "execution_count": 11,
     "metadata": {},
     "output_type": "execute_result"
    }
   ],
   "source": [
    "df.Action.value_counts()"
   ]
  },
  {
   "cell_type": "code",
   "execution_count": 9,
   "metadata": {
    "scrolled": false
   },
   "outputs": [],
   "source": [
    "for i in range(len(df['Action'])):\n",
    "    if df['Action'][i] == 1:\n",
    "        a = random.randint(0,9)\n",
    "        if a > 0:\n",
    "            df['Action'][i] = None"
   ]
  },
  {
   "cell_type": "code",
   "execution_count": 10,
   "metadata": {
    "scrolled": true
   },
   "outputs": [
    {
     "data": {
      "text/html": [
       "<div>\n",
       "<style scoped>\n",
       "    .dataframe tbody tr th:only-of-type {\n",
       "        vertical-align: middle;\n",
       "    }\n",
       "\n",
       "    .dataframe tbody tr th {\n",
       "        vertical-align: top;\n",
       "    }\n",
       "\n",
       "    .dataframe thead th {\n",
       "        text-align: right;\n",
       "    }\n",
       "</style>\n",
       "<table border=\"1\" class=\"dataframe\">\n",
       "  <thead>\n",
       "    <tr style=\"text-align: right;\">\n",
       "      <th></th>\n",
       "      <th>MyPosition</th>\n",
       "      <th>leftLine</th>\n",
       "      <th>MidLine</th>\n",
       "      <th>RightLine</th>\n",
       "      <th>Action</th>\n",
       "    </tr>\n",
       "  </thead>\n",
       "  <tbody>\n",
       "    <tr>\n",
       "      <td>0</td>\n",
       "      <td>1</td>\n",
       "      <td>6</td>\n",
       "      <td>6</td>\n",
       "      <td>6</td>\n",
       "      <td>0.0</td>\n",
       "    </tr>\n",
       "    <tr>\n",
       "      <td>1</td>\n",
       "      <td>0</td>\n",
       "      <td>6</td>\n",
       "      <td>6</td>\n",
       "      <td>6</td>\n",
       "      <td>1.0</td>\n",
       "    </tr>\n",
       "    <tr>\n",
       "      <td>2</td>\n",
       "      <td>0</td>\n",
       "      <td>5</td>\n",
       "      <td>6</td>\n",
       "      <td>6</td>\n",
       "      <td>2.0</td>\n",
       "    </tr>\n",
       "    <tr>\n",
       "      <td>3</td>\n",
       "      <td>1</td>\n",
       "      <td>4</td>\n",
       "      <td>6</td>\n",
       "      <td>6</td>\n",
       "      <td>NaN</td>\n",
       "    </tr>\n",
       "    <tr>\n",
       "      <td>4</td>\n",
       "      <td>1</td>\n",
       "      <td>3</td>\n",
       "      <td>6</td>\n",
       "      <td>5</td>\n",
       "      <td>NaN</td>\n",
       "    </tr>\n",
       "  </tbody>\n",
       "</table>\n",
       "</div>"
      ],
      "text/plain": [
       "   MyPosition  leftLine  MidLine  RightLine  Action\n",
       "0           1         6        6          6     0.0\n",
       "1           0         6        6          6     1.0\n",
       "2           0         5        6          6     2.0\n",
       "3           1         4        6          6     NaN\n",
       "4           1         3        6          5     NaN"
      ]
     },
     "execution_count": 10,
     "metadata": {},
     "output_type": "execute_result"
    }
   ],
   "source": [
    "df.head()"
   ]
  },
  {
   "cell_type": "code",
   "execution_count": 12,
   "metadata": {
    "scrolled": true
   },
   "outputs": [],
   "source": [
    "newDF = df.dropna()"
   ]
  },
  {
   "cell_type": "code",
   "execution_count": null,
   "metadata": {
    "scrolled": true
   },
   "outputs": [],
   "source": [
    "# newDF['Action'] = newDF['Action'].astype(int)"
   ]
  },
  {
   "cell_type": "code",
   "execution_count": 13,
   "metadata": {},
   "outputs": [
    {
     "data": {
      "text/plain": [
       "2.0    867\n",
       "0.0    866\n",
       "1.0    816\n",
       "Name: Action, dtype: int64"
      ]
     },
     "execution_count": 13,
     "metadata": {},
     "output_type": "execute_result"
    }
   ],
   "source": [
    "df.Action.value_counts()"
   ]
  },
  {
   "cell_type": "code",
   "execution_count": 14,
   "metadata": {},
   "outputs": [
    {
     "data": {
      "text/html": [
       "<div>\n",
       "<style scoped>\n",
       "    .dataframe tbody tr th:only-of-type {\n",
       "        vertical-align: middle;\n",
       "    }\n",
       "\n",
       "    .dataframe tbody tr th {\n",
       "        vertical-align: top;\n",
       "    }\n",
       "\n",
       "    .dataframe thead th {\n",
       "        text-align: right;\n",
       "    }\n",
       "</style>\n",
       "<table border=\"1\" class=\"dataframe\">\n",
       "  <thead>\n",
       "    <tr style=\"text-align: right;\">\n",
       "      <th></th>\n",
       "      <th>MyPosition</th>\n",
       "      <th>leftLine</th>\n",
       "      <th>MidLine</th>\n",
       "      <th>RightLine</th>\n",
       "    </tr>\n",
       "  </thead>\n",
       "  <tbody>\n",
       "    <tr>\n",
       "      <td>0</td>\n",
       "      <td>1</td>\n",
       "      <td>6</td>\n",
       "      <td>6</td>\n",
       "      <td>6</td>\n",
       "    </tr>\n",
       "    <tr>\n",
       "      <td>1</td>\n",
       "      <td>0</td>\n",
       "      <td>6</td>\n",
       "      <td>6</td>\n",
       "      <td>6</td>\n",
       "    </tr>\n",
       "    <tr>\n",
       "      <td>2</td>\n",
       "      <td>0</td>\n",
       "      <td>5</td>\n",
       "      <td>6</td>\n",
       "      <td>6</td>\n",
       "    </tr>\n",
       "    <tr>\n",
       "      <td>8</td>\n",
       "      <td>1</td>\n",
       "      <td>6</td>\n",
       "      <td>6</td>\n",
       "      <td>1</td>\n",
       "    </tr>\n",
       "    <tr>\n",
       "      <td>13</td>\n",
       "      <td>0</td>\n",
       "      <td>6</td>\n",
       "      <td>6</td>\n",
       "      <td>0</td>\n",
       "    </tr>\n",
       "  </tbody>\n",
       "</table>\n",
       "</div>"
      ],
      "text/plain": [
       "    MyPosition  leftLine  MidLine  RightLine\n",
       "0            1         6        6          6\n",
       "1            0         6        6          6\n",
       "2            0         5        6          6\n",
       "8            1         6        6          1\n",
       "13           0         6        6          0"
      ]
     },
     "execution_count": 14,
     "metadata": {},
     "output_type": "execute_result"
    }
   ],
   "source": [
    "inputData = newDF.drop('Action',1)\n",
    "inputData.head()"
   ]
  },
  {
   "cell_type": "code",
   "execution_count": 15,
   "metadata": {
    "scrolled": true
   },
   "outputs": [],
   "source": [
    "outputData = newDF['Action']"
   ]
  },
  {
   "cell_type": "code",
   "execution_count": 16,
   "metadata": {
    "scrolled": true
   },
   "outputs": [],
   "source": [
    "X_train, X_test, y_train, y_test = train_test_split(inputData, outputData, test_size=0.20, random_state=4)"
   ]
  },
  {
   "cell_type": "code",
   "execution_count": 17,
   "metadata": {},
   "outputs": [],
   "source": [
    "y_train = keras.utils.to_categorical(y_train, 3)"
   ]
  },
  {
   "cell_type": "code",
   "execution_count": 18,
   "metadata": {},
   "outputs": [],
   "source": [
    "y_test = keras.utils.to_categorical(y_test, 3)"
   ]
  },
  {
   "cell_type": "code",
   "execution_count": 19,
   "metadata": {},
   "outputs": [
    {
     "name": "stdout",
     "output_type": "stream",
     "text": [
      "WARNING:tensorflow:From /opt/anaconda3/lib/python3.7/site-packages/keras/backend/tensorflow_backend.py:74: The name tf.get_default_graph is deprecated. Please use tf.compat.v1.get_default_graph instead.\n",
      "\n",
      "WARNING:tensorflow:From /opt/anaconda3/lib/python3.7/site-packages/keras/backend/tensorflow_backend.py:517: The name tf.placeholder is deprecated. Please use tf.compat.v1.placeholder instead.\n",
      "\n",
      "WARNING:tensorflow:From /opt/anaconda3/lib/python3.7/site-packages/keras/backend/tensorflow_backend.py:4138: The name tf.random_uniform is deprecated. Please use tf.random.uniform instead.\n",
      "\n",
      "WARNING:tensorflow:From /opt/anaconda3/lib/python3.7/site-packages/keras/backend/tensorflow_backend.py:133: The name tf.placeholder_with_default is deprecated. Please use tf.compat.v1.placeholder_with_default instead.\n",
      "\n",
      "WARNING:tensorflow:From /opt/anaconda3/lib/python3.7/site-packages/keras/backend/tensorflow_backend.py:3445: calling dropout (from tensorflow.python.ops.nn_ops) with keep_prob is deprecated and will be removed in a future version.\n",
      "Instructions for updating:\n",
      "Please use `rate` instead of `keep_prob`. Rate should be set to `rate = 1 - keep_prob`.\n"
     ]
    }
   ],
   "source": [
    "# define the keras model\n",
    "model = Sequential()\n",
    "model.add(Dense(16, input_shape=(4, )))\n",
    "model.add(Activation('relu'))\n",
    "model.add(Dropout(0.5))\n",
    "model.add(Dense(3))\n",
    "model.add(Activation('softmax'))"
   ]
  },
  {
   "cell_type": "code",
   "execution_count": 20,
   "metadata": {},
   "outputs": [
    {
     "name": "stdout",
     "output_type": "stream",
     "text": [
      "WARNING:tensorflow:From /opt/anaconda3/lib/python3.7/site-packages/keras/optimizers.py:790: The name tf.train.Optimizer is deprecated. Please use tf.compat.v1.train.Optimizer instead.\n",
      "\n",
      "WARNING:tensorflow:From /opt/anaconda3/lib/python3.7/site-packages/keras/backend/tensorflow_backend.py:3295: The name tf.log is deprecated. Please use tf.math.log instead.\n",
      "\n"
     ]
    }
   ],
   "source": [
    "model.compile(\n",
    "            optimizer='adam',\n",
    "            loss='categorical_crossentropy',\n",
    "            metrics=['accuracy'])"
   ]
  },
  {
   "cell_type": "code",
   "execution_count": 21,
   "metadata": {
    "scrolled": false
   },
   "outputs": [
    {
     "name": "stdout",
     "output_type": "stream",
     "text": [
      "WARNING:tensorflow:From /opt/anaconda3/lib/python3.7/site-packages/tensorflow_core/python/ops/math_grad.py:1424: where (from tensorflow.python.ops.array_ops) is deprecated and will be removed in a future version.\n",
      "Instructions for updating:\n",
      "Use tf.where in 2.0, which has the same broadcast rule as np.where\n",
      "WARNING:tensorflow:From /opt/anaconda3/lib/python3.7/site-packages/keras/backend/tensorflow_backend.py:986: The name tf.assign_add is deprecated. Please use tf.compat.v1.assign_add instead.\n",
      "\n",
      "WARNING:tensorflow:From /opt/anaconda3/lib/python3.7/site-packages/keras/backend/tensorflow_backend.py:973: The name tf.assign is deprecated. Please use tf.compat.v1.assign instead.\n",
      "\n",
      "WARNING:tensorflow:From /opt/anaconda3/lib/python3.7/site-packages/keras/backend/tensorflow_backend.py:2741: The name tf.Session is deprecated. Please use tf.compat.v1.Session instead.\n",
      "\n",
      "Epoch 1/100\n",
      "WARNING:tensorflow:From /opt/anaconda3/lib/python3.7/site-packages/keras/backend/tensorflow_backend.py:174: The name tf.get_default_session is deprecated. Please use tf.compat.v1.get_default_session instead.\n",
      "\n",
      "WARNING:tensorflow:From /opt/anaconda3/lib/python3.7/site-packages/keras/backend/tensorflow_backend.py:181: The name tf.ConfigProto is deprecated. Please use tf.compat.v1.ConfigProto instead.\n",
      "\n",
      "WARNING:tensorflow:From /opt/anaconda3/lib/python3.7/site-packages/keras/backend/tensorflow_backend.py:190: The name tf.global_variables is deprecated. Please use tf.compat.v1.global_variables instead.\n",
      "\n",
      "WARNING:tensorflow:From /opt/anaconda3/lib/python3.7/site-packages/keras/backend/tensorflow_backend.py:199: The name tf.is_variable_initialized is deprecated. Please use tf.compat.v1.is_variable_initialized instead.\n",
      "\n",
      "WARNING:tensorflow:From /opt/anaconda3/lib/python3.7/site-packages/keras/backend/tensorflow_backend.py:206: The name tf.variables_initializer is deprecated. Please use tf.compat.v1.variables_initializer instead.\n",
      "\n",
      "2039/2039 [==============================] - 3s 1ms/step - loss: 1.7027 - acc: 0.3953\n",
      "Epoch 2/100\n",
      "2039/2039 [==============================] - 1s 328us/step - loss: 1.0448 - acc: 0.5282\n",
      "Epoch 3/100\n",
      "2039/2039 [==============================] - 1s 507us/step - loss: 0.8552 - acc: 0.5964\n",
      "Epoch 4/100\n",
      "2039/2039 [==============================] - 1s 481us/step - loss: 0.7494 - acc: 0.6699\n",
      "Epoch 5/100\n",
      "2039/2039 [==============================] - 1s 480us/step - loss: 0.6966 - acc: 0.6846\n",
      "Epoch 6/100\n",
      "2039/2039 [==============================] - 1s 346us/step - loss: 0.6562 - acc: 0.7273\n",
      "Epoch 7/100\n",
      "2039/2039 [==============================] - 1s 342us/step - loss: 0.6130 - acc: 0.7563\n",
      "Epoch 8/100\n",
      "2039/2039 [==============================] - 1s 299us/step - loss: 0.5916 - acc: 0.7592\n",
      "Epoch 9/100\n",
      "2039/2039 [==============================] - 1s 282us/step - loss: 0.5538 - acc: 0.7783\n",
      "Epoch 10/100\n",
      "2039/2039 [==============================] - 1s 284us/step - loss: 0.5297 - acc: 0.7837\n",
      "Epoch 11/100\n",
      "2039/2039 [==============================] - 1s 326us/step - loss: 0.5104 - acc: 0.7832\n",
      "Epoch 12/100\n",
      "2039/2039 [==============================] - 1s 321us/step - loss: 0.4887 - acc: 0.8038\n",
      "Epoch 13/100\n",
      "2039/2039 [==============================] - 1s 296us/step - loss: 0.4813 - acc: 0.8205\n",
      "Epoch 14/100\n",
      "2039/2039 [==============================] - 1s 294us/step - loss: 0.4430 - acc: 0.8274\n",
      "Epoch 15/100\n",
      "2039/2039 [==============================] - 1s 319us/step - loss: 0.4192 - acc: 0.8401\n",
      "Epoch 16/100\n",
      "2039/2039 [==============================] - 1s 283us/step - loss: 0.4336 - acc: 0.8288\n",
      "Epoch 17/100\n",
      "2039/2039 [==============================] - 1s 291us/step - loss: 0.3853 - acc: 0.8583\n",
      "Epoch 18/100\n",
      "2039/2039 [==============================] - 1s 294us/step - loss: 0.3926 - acc: 0.8548\n",
      "Epoch 19/100\n",
      "2039/2039 [==============================] - 1s 287us/step - loss: 0.3658 - acc: 0.8656\n",
      "Epoch 20/100\n",
      "2039/2039 [==============================] - 1s 291us/step - loss: 0.3683 - acc: 0.8691\n",
      "Epoch 21/100\n",
      "2039/2039 [==============================] - 1s 290us/step - loss: 0.3575 - acc: 0.8725\n",
      "Epoch 22/100\n",
      "2039/2039 [==============================] - 1s 290us/step - loss: 0.3576 - acc: 0.8651\n",
      "Epoch 23/100\n",
      "2039/2039 [==============================] - 1s 292us/step - loss: 0.3362 - acc: 0.8789\n",
      "Epoch 24/100\n",
      "2039/2039 [==============================] - 1s 290us/step - loss: 0.3300 - acc: 0.8789\n",
      "Epoch 25/100\n",
      "2039/2039 [==============================] - 1s 291us/step - loss: 0.3168 - acc: 0.8789\n",
      "Epoch 26/100\n",
      "2039/2039 [==============================] - 1s 292us/step - loss: 0.3254 - acc: 0.8769\n",
      "Epoch 27/100\n",
      "2039/2039 [==============================] - 1s 295us/step - loss: 0.3027 - acc: 0.8803\n",
      "Epoch 28/100\n",
      "2039/2039 [==============================] - 1s 293us/step - loss: 0.3156 - acc: 0.8759\n",
      "Epoch 29/100\n",
      "2039/2039 [==============================] - 1s 291us/step - loss: 0.3043 - acc: 0.8901\n",
      "Epoch 30/100\n",
      "2039/2039 [==============================] - 1s 304us/step - loss: 0.2946 - acc: 0.8901\n",
      "Epoch 31/100\n",
      "2039/2039 [==============================] - 1s 291us/step - loss: 0.2807 - acc: 0.8960\n",
      "Epoch 32/100\n",
      "2039/2039 [==============================] - 1s 296us/step - loss: 0.2913 - acc: 0.8862\n",
      "Epoch 33/100\n",
      "2039/2039 [==============================] - 1s 295us/step - loss: 0.2768 - acc: 0.8941\n",
      "Epoch 34/100\n",
      "2039/2039 [==============================] - 1s 300us/step - loss: 0.2688 - acc: 0.8995\n",
      "Epoch 35/100\n",
      "2039/2039 [==============================] - 1s 296us/step - loss: 0.2698 - acc: 0.9078\n",
      "Epoch 36/100\n",
      "2039/2039 [==============================] - 1s 300us/step - loss: 0.2600 - acc: 0.9103\n",
      "Epoch 37/100\n",
      "2039/2039 [==============================] - 1s 301us/step - loss: 0.2579 - acc: 0.9073\n",
      "Epoch 38/100\n",
      "2039/2039 [==============================] - 1s 301us/step - loss: 0.2593 - acc: 0.9063\n",
      "Epoch 39/100\n",
      "2039/2039 [==============================] - 1s 306us/step - loss: 0.2535 - acc: 0.9083\n",
      "Epoch 40/100\n",
      "2039/2039 [==============================] - 1s 309us/step - loss: 0.2402 - acc: 0.9127\n",
      "Epoch 41/100\n",
      "2039/2039 [==============================] - 1s 308us/step - loss: 0.2271 - acc: 0.9205\n",
      "Epoch 42/100\n",
      "2039/2039 [==============================] - 1s 310us/step - loss: 0.2439 - acc: 0.9152\n",
      "Epoch 43/100\n",
      "2039/2039 [==============================] - 1s 312us/step - loss: 0.2140 - acc: 0.9279\n",
      "Epoch 44/100\n",
      "2039/2039 [==============================] - 1s 312us/step - loss: 0.2244 - acc: 0.9161\n",
      "Epoch 45/100\n",
      "2039/2039 [==============================] - 1s 323us/step - loss: 0.2070 - acc: 0.9313\n",
      "Epoch 46/100\n",
      "2039/2039 [==============================] - 1s 315us/step - loss: 0.2206 - acc: 0.9201\n",
      "Epoch 47/100\n",
      "2039/2039 [==============================] - 1s 323us/step - loss: 0.2071 - acc: 0.9299\n",
      "Epoch 48/100\n",
      "2039/2039 [==============================] - 1s 318us/step - loss: 0.2083 - acc: 0.9289\n",
      "Epoch 49/100\n",
      "2039/2039 [==============================] - 1s 323us/step - loss: 0.2082 - acc: 0.9274\n",
      "Epoch 50/100\n",
      "2039/2039 [==============================] - 1s 325us/step - loss: 0.2236 - acc: 0.9255\n",
      "Epoch 51/100\n",
      "2039/2039 [==============================] - 1s 330us/step - loss: 0.2124 - acc: 0.9279\n",
      "Epoch 52/100\n",
      "2039/2039 [==============================] - 1s 328us/step - loss: 0.1915 - acc: 0.9338\n",
      "Epoch 53/100\n",
      "2039/2039 [==============================] - 1s 329us/step - loss: 0.1859 - acc: 0.9392\n",
      "Epoch 54/100\n",
      "2039/2039 [==============================] - 1s 328us/step - loss: 0.1998 - acc: 0.9318\n",
      "Epoch 55/100\n",
      "2039/2039 [==============================] - 1s 328us/step - loss: 0.1951 - acc: 0.9348\n",
      "Epoch 56/100\n",
      "2039/2039 [==============================] - 1s 330us/step - loss: 0.2115 - acc: 0.9245\n",
      "Epoch 57/100\n",
      "2039/2039 [==============================] - 1s 332us/step - loss: 0.1849 - acc: 0.9387\n",
      "Epoch 58/100\n",
      "2039/2039 [==============================] - 1s 332us/step - loss: 0.1942 - acc: 0.9348\n",
      "Epoch 59/100\n",
      "2039/2039 [==============================] - 1s 341us/step - loss: 0.1902 - acc: 0.9328\n",
      "Epoch 60/100\n",
      "2039/2039 [==============================] - 1s 338us/step - loss: 0.1915 - acc: 0.9343\n",
      "Epoch 61/100\n",
      "2039/2039 [==============================] - 1s 336us/step - loss: 0.2060 - acc: 0.9279\n",
      "Epoch 62/100\n",
      "2039/2039 [==============================] - 1s 340us/step - loss: 0.1868 - acc: 0.9308\n",
      "Epoch 63/100\n",
      "2039/2039 [==============================] - 1s 332us/step - loss: 0.1936 - acc: 0.9353\n",
      "Epoch 64/100\n",
      "2039/2039 [==============================] - 1s 354us/step - loss: 0.1929 - acc: 0.9407\n",
      "Epoch 65/100\n",
      "2039/2039 [==============================] - 1s 339us/step - loss: 0.1809 - acc: 0.9441 0s - loss: 0.1808 - acc: 0.94\n",
      "Epoch 66/100\n",
      "2039/2039 [==============================] - 1s 342us/step - loss: 0.1849 - acc: 0.9387\n",
      "Epoch 67/100\n",
      "2039/2039 [==============================] - 1s 360us/step - loss: 0.1956 - acc: 0.9348\n",
      "Epoch 68/100\n",
      "2039/2039 [==============================] - 1s 329us/step - loss: 0.1699 - acc: 0.9456\n",
      "Epoch 69/100\n",
      "2039/2039 [==============================] - 1s 326us/step - loss: 0.1744 - acc: 0.9407\n",
      "Epoch 70/100\n",
      "2039/2039 [==============================] - 1s 332us/step - loss: 0.1909 - acc: 0.9362\n",
      "Epoch 71/100\n",
      "2039/2039 [==============================] - 1s 333us/step - loss: 0.1834 - acc: 0.9431\n",
      "Epoch 72/100\n",
      "2039/2039 [==============================] - 1s 329us/step - loss: 0.1783 - acc: 0.9353\n",
      "Epoch 73/100\n",
      "2039/2039 [==============================] - 1s 339us/step - loss: 0.1673 - acc: 0.9436\n",
      "Epoch 74/100\n",
      "2039/2039 [==============================] - 1s 333us/step - loss: 0.1939 - acc: 0.9372\n",
      "Epoch 75/100\n",
      "2039/2039 [==============================] - 1s 340us/step - loss: 0.1821 - acc: 0.9387\n",
      "Epoch 76/100\n",
      "2039/2039 [==============================] - 1s 352us/step - loss: 0.1688 - acc: 0.9446\n",
      "Epoch 77/100\n",
      "2039/2039 [==============================] - 1s 388us/step - loss: 0.1673 - acc: 0.9485\n",
      "Epoch 78/100\n",
      "2039/2039 [==============================] - 1s 338us/step - loss: 0.1612 - acc: 0.9465\n",
      "Epoch 79/100\n",
      "2039/2039 [==============================] - 1s 332us/step - loss: 0.1712 - acc: 0.9416\n",
      "Epoch 80/100\n",
      "2039/2039 [==============================] - 1s 343us/step - loss: 0.1624 - acc: 0.9495\n",
      "Epoch 81/100\n",
      "2039/2039 [==============================] - 1s 343us/step - loss: 0.1683 - acc: 0.9436\n",
      "Epoch 82/100\n",
      "2039/2039 [==============================] - 1s 528us/step - loss: 0.1747 - acc: 0.9446\n",
      "Epoch 83/100\n",
      "2039/2039 [==============================] - 1s 519us/step - loss: 0.1621 - acc: 0.9480\n",
      "Epoch 84/100\n",
      "2039/2039 [==============================] - 1s 509us/step - loss: 0.1705 - acc: 0.9416\n",
      "Epoch 85/100\n",
      "2039/2039 [==============================] - 1s 507us/step - loss: 0.1695 - acc: 0.9470\n",
      "Epoch 86/100\n",
      "2039/2039 [==============================] - 1s 530us/step - loss: 0.1627 - acc: 0.9451\n",
      "Epoch 87/100\n",
      "2039/2039 [==============================] - 1s 477us/step - loss: 0.1561 - acc: 0.9485\n",
      "Epoch 88/100\n",
      "2039/2039 [==============================] - 1s 393us/step - loss: 0.1563 - acc: 0.9490\n",
      "Epoch 89/100\n",
      "2039/2039 [==============================] - 1s 375us/step - loss: 0.1621 - acc: 0.9495\n",
      "Epoch 90/100\n",
      "2039/2039 [==============================] - 1s 399us/step - loss: 0.1713 - acc: 0.9426\n",
      "Epoch 91/100\n",
      "2039/2039 [==============================] - 1s 416us/step - loss: 0.1744 - acc: 0.9411\n",
      "Epoch 92/100\n",
      "2039/2039 [==============================] - 1s 407us/step - loss: 0.1722 - acc: 0.9470\n",
      "Epoch 93/100\n",
      "2039/2039 [==============================] - 1s 418us/step - loss: 0.1549 - acc: 0.9524\n",
      "Epoch 94/100\n",
      "2039/2039 [==============================] - 1s 379us/step - loss: 0.1517 - acc: 0.9505\n",
      "Epoch 95/100\n",
      "2039/2039 [==============================] - 1s 373us/step - loss: 0.1533 - acc: 0.9456\n",
      "Epoch 96/100\n",
      "2039/2039 [==============================] - 1s 380us/step - loss: 0.1703 - acc: 0.9480\n",
      "Epoch 97/100\n",
      "2039/2039 [==============================] - 1s 399us/step - loss: 0.1524 - acc: 0.9490\n",
      "Epoch 98/100\n",
      "2039/2039 [==============================] - 1s 392us/step - loss: 0.1654 - acc: 0.9461\n",
      "Epoch 99/100\n",
      "2039/2039 [==============================] - 1s 420us/step - loss: 0.1741 - acc: 0.9397\n",
      "Epoch 100/100\n",
      "2039/2039 [==============================] - 1s 481us/step - loss: 0.1698 - acc: 0.9446\n"
     ]
    },
    {
     "data": {
      "text/plain": [
       "<keras.callbacks.History at 0x1c4f76f710>"
      ]
     },
     "execution_count": 21,
     "metadata": {},
     "output_type": "execute_result"
    }
   ],
   "source": [
    "# fit the keras model on the dataset\n",
    "model.fit(X_train, y_train, epochs=100, batch_size=10)"
   ]
  },
  {
   "cell_type": "code",
   "execution_count": 22,
   "metadata": {},
   "outputs": [
    {
     "name": "stdout",
     "output_type": "stream",
     "text": [
      "510/510 [==============================] - 0s 488us/step\n",
      "Accuracy: 100.00\n"
     ]
    }
   ],
   "source": [
    "# evaluate the keras model\n",
    "_, accuracy = model.evaluate(X_test, y_test)\n",
    "print('Accuracy: %.2f' % (accuracy*100))"
   ]
  },
  {
   "cell_type": "code",
   "execution_count": 24,
   "metadata": {},
   "outputs": [],
   "source": [
    "from keras.models import load_model\n",
    "\n",
    "# Creates a HDF5 file 'my_model.h5'\n",
    "model.save('my_model.h5')\n",
    "\n",
    "# Deletes the existing model\n",
    "del model  \n",
    "\n",
    "# Returns a compiled model identical to the previous one\n",
    "model = load_model('my_model.h5')"
   ]
  },
  {
   "cell_type": "code",
   "execution_count": 25,
   "metadata": {
    "scrolled": true
   },
   "outputs": [
    {
     "data": {
      "text/plain": [
       "array([0, 1, 1, 0, 2, 1, 0, 0, 1, 0, 0, 1, 1, 0, 2, 0, 1, 2, 0, 2])"
      ]
     },
     "execution_count": 25,
     "metadata": {},
     "output_type": "execute_result"
    }
   ],
   "source": [
    "predictions = model.predict_classes(X_test)\n",
    "predictions[0:20]"
   ]
  },
  {
   "cell_type": "code",
   "execution_count": 28,
   "metadata": {},
   "outputs": [
    {
     "data": {
      "text/html": [
       "<div>\n",
       "<style scoped>\n",
       "    .dataframe tbody tr th:only-of-type {\n",
       "        vertical-align: middle;\n",
       "    }\n",
       "\n",
       "    .dataframe tbody tr th {\n",
       "        vertical-align: top;\n",
       "    }\n",
       "\n",
       "    .dataframe thead th {\n",
       "        text-align: right;\n",
       "    }\n",
       "</style>\n",
       "<table border=\"1\" class=\"dataframe\">\n",
       "  <thead>\n",
       "    <tr style=\"text-align: right;\">\n",
       "      <th></th>\n",
       "      <th>MyPosition</th>\n",
       "      <th>leftLine</th>\n",
       "      <th>MidLine</th>\n",
       "      <th>RightLine</th>\n",
       "    </tr>\n",
       "  </thead>\n",
       "  <tbody>\n",
       "    <tr>\n",
       "      <td>658</td>\n",
       "      <td>0</td>\n",
       "      <td>1</td>\n",
       "      <td>6</td>\n",
       "      <td>5</td>\n",
       "    </tr>\n",
       "    <tr>\n",
       "      <td>1438</td>\n",
       "      <td>2</td>\n",
       "      <td>1</td>\n",
       "      <td>6</td>\n",
       "      <td>3</td>\n",
       "    </tr>\n",
       "    <tr>\n",
       "      <td>1142</td>\n",
       "      <td>2</td>\n",
       "      <td>1</td>\n",
       "      <td>6</td>\n",
       "      <td>3</td>\n",
       "    </tr>\n",
       "    <tr>\n",
       "      <td>1794</td>\n",
       "      <td>2</td>\n",
       "      <td>1</td>\n",
       "      <td>6</td>\n",
       "      <td>3</td>\n",
       "    </tr>\n",
       "    <tr>\n",
       "      <td>1704</td>\n",
       "      <td>0</td>\n",
       "      <td>1</td>\n",
       "      <td>6</td>\n",
       "      <td>5</td>\n",
       "    </tr>\n",
       "    <tr>\n",
       "      <td>...</td>\n",
       "      <td>...</td>\n",
       "      <td>...</td>\n",
       "      <td>...</td>\n",
       "      <td>...</td>\n",
       "    </tr>\n",
       "    <tr>\n",
       "      <td>1697</td>\n",
       "      <td>1</td>\n",
       "      <td>0</td>\n",
       "      <td>6</td>\n",
       "      <td>4</td>\n",
       "    </tr>\n",
       "    <tr>\n",
       "      <td>1224</td>\n",
       "      <td>2</td>\n",
       "      <td>3</td>\n",
       "      <td>6</td>\n",
       "      <td>1</td>\n",
       "    </tr>\n",
       "    <tr>\n",
       "      <td>398</td>\n",
       "      <td>1</td>\n",
       "      <td>1</td>\n",
       "      <td>3</td>\n",
       "      <td>6</td>\n",
       "    </tr>\n",
       "    <tr>\n",
       "      <td>1298</td>\n",
       "      <td>1</td>\n",
       "      <td>1</td>\n",
       "      <td>3</td>\n",
       "      <td>6</td>\n",
       "    </tr>\n",
       "    <tr>\n",
       "      <td>1213</td>\n",
       "      <td>2</td>\n",
       "      <td>0</td>\n",
       "      <td>2</td>\n",
       "      <td>4</td>\n",
       "    </tr>\n",
       "  </tbody>\n",
       "</table>\n",
       "<p>160 rows × 4 columns</p>\n",
       "</div>"
      ],
      "text/plain": [
       "      MyPosition  leftLine  MidLine  RightLine\n",
       "658            0         1        6          5\n",
       "1438           2         1        6          3\n",
       "1142           2         1        6          3\n",
       "1794           2         1        6          3\n",
       "1704           0         1        6          5\n",
       "...          ...       ...      ...        ...\n",
       "1697           1         0        6          4\n",
       "1224           2         3        6          1\n",
       "398            1         1        3          6\n",
       "1298           1         1        3          6\n",
       "1213           2         0        2          4\n",
       "\n",
       "[160 rows x 4 columns]"
      ]
     },
     "execution_count": 28,
     "metadata": {},
     "output_type": "execute_result"
    }
   ],
   "source": [
    "X_test"
   ]
  },
  {
   "cell_type": "code",
   "execution_count": 29,
   "metadata": {},
   "outputs": [],
   "source": [
    "import numpy as np"
   ]
  },
  {
   "cell_type": "code",
   "execution_count": null,
   "metadata": {},
   "outputs": [],
   "source": [
    "X_test.head()"
   ]
  },
  {
   "cell_type": "code",
   "execution_count": 32,
   "metadata": {},
   "outputs": [],
   "source": [
    "inputData = np.array([[2,1,6,3]])"
   ]
  },
  {
   "cell_type": "code",
   "execution_count": 33,
   "metadata": {
    "scrolled": true
   },
   "outputs": [
    {
     "data": {
      "text/plain": [
       "array([0])"
      ]
     },
     "execution_count": 33,
     "metadata": {},
     "output_type": "execute_result"
    }
   ],
   "source": [
    "model.predict_classes(inputData)"
   ]
  },
  {
   "cell_type": "code",
   "execution_count": null,
   "metadata": {},
   "outputs": [],
   "source": [
    "X_test.iloc[0]"
   ]
  },
  {
   "cell_type": "code",
   "execution_count": null,
   "metadata": {},
   "outputs": [],
   "source": [
    "bla = np.array(X_test.iloc[0:])\n",
    "bla"
   ]
  },
  {
   "cell_type": "code",
   "execution_count": null,
   "metadata": {},
   "outputs": [],
   "source": [
    "model.predict_classes(bla)"
   ]
  },
  {
   "cell_type": "code",
   "execution_count": null,
   "metadata": {},
   "outputs": [],
   "source": []
  }
 ],
 "metadata": {
  "kernelspec": {
   "display_name": "Python 3",
   "language": "python",
   "name": "python3"
  },
  "language_info": {
   "codemirror_mode": {
    "name": "ipython",
    "version": 3
   },
   "file_extension": ".py",
   "mimetype": "text/x-python",
   "name": "python",
   "nbconvert_exporter": "python",
   "pygments_lexer": "ipython3",
   "version": "3.7.4"
  }
 },
 "nbformat": 4,
 "nbformat_minor": 2
}
