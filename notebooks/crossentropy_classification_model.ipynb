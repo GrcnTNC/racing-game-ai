{
 "cells": [
  {
   "cell_type": "markdown",
   "metadata": {},
   "source": [
    "# This notebook is meant to train a Neural Network model using keras for a Racing Game Environment"
   ]
  },
  {
   "cell_type": "markdown",
   "metadata": {},
   "source": [
    "### Parameters\n",
    "- Optimizer - Adam\n",
    "- Loss function - Categorical Crossentropy\n",
    "- Input layer - 4 values\n",
    "- Output layer - 3 categories\n",
    "- Hidden layer - 1 layer with 16 nodes\n",
    "- Epochs - 100\n",
    "- Batch size - 10"
   ]
  },
  {
   "cell_type": "code",
   "execution_count": 1,
   "metadata": {},
   "outputs": [
    {
     "name": "stderr",
     "output_type": "stream",
     "text": [
      "Using TensorFlow backend.\n"
     ]
    }
   ],
   "source": [
    "# Importing necessery libraries\n",
    "%matplotlib inline\n",
    "from numpy import loadtxt\n",
    "from keras.models import Sequential\n",
    "from keras.layers import Dense, Dropout, Activation\n",
    "import pandas as pd\n",
    "from sklearn.model_selection import train_test_split\n",
    "import random\n",
    "import keras\n",
    "from keras.models import load_model\n",
    "import matplotlib.pyplot as plt"
   ]
  },
  {
   "cell_type": "code",
   "execution_count": 2,
   "metadata": {
    "scrolled": false
   },
   "outputs": [
    {
     "data": {
      "text/html": [
       "<div>\n",
       "<style scoped>\n",
       "    .dataframe tbody tr th:only-of-type {\n",
       "        vertical-align: middle;\n",
       "    }\n",
       "\n",
       "    .dataframe tbody tr th {\n",
       "        vertical-align: top;\n",
       "    }\n",
       "\n",
       "    .dataframe thead th {\n",
       "        text-align: right;\n",
       "    }\n",
       "</style>\n",
       "<table border=\"1\" class=\"dataframe\">\n",
       "  <thead>\n",
       "    <tr style=\"text-align: right;\">\n",
       "      <th></th>\n",
       "      <th>Unnamed: 0</th>\n",
       "      <th>0</th>\n",
       "      <th>1</th>\n",
       "      <th>2</th>\n",
       "      <th>3</th>\n",
       "      <th>4</th>\n",
       "    </tr>\n",
       "  </thead>\n",
       "  <tbody>\n",
       "    <tr>\n",
       "      <td>0</td>\n",
       "      <td>0</td>\n",
       "      <td>0</td>\n",
       "      <td>7</td>\n",
       "      <td>7</td>\n",
       "      <td>7</td>\n",
       "      <td>1</td>\n",
       "    </tr>\n",
       "    <tr>\n",
       "      <td>1</td>\n",
       "      <td>1</td>\n",
       "      <td>0</td>\n",
       "      <td>7</td>\n",
       "      <td>7</td>\n",
       "      <td>7</td>\n",
       "      <td>1</td>\n",
       "    </tr>\n",
       "    <tr>\n",
       "      <td>2</td>\n",
       "      <td>2</td>\n",
       "      <td>0</td>\n",
       "      <td>7</td>\n",
       "      <td>7</td>\n",
       "      <td>6</td>\n",
       "      <td>1</td>\n",
       "    </tr>\n",
       "    <tr>\n",
       "      <td>3</td>\n",
       "      <td>3</td>\n",
       "      <td>0</td>\n",
       "      <td>7</td>\n",
       "      <td>7</td>\n",
       "      <td>5</td>\n",
       "      <td>1</td>\n",
       "    </tr>\n",
       "    <tr>\n",
       "      <td>4</td>\n",
       "      <td>4</td>\n",
       "      <td>0</td>\n",
       "      <td>6</td>\n",
       "      <td>7</td>\n",
       "      <td>4</td>\n",
       "      <td>2</td>\n",
       "    </tr>\n",
       "  </tbody>\n",
       "</table>\n",
       "</div>"
      ],
      "text/plain": [
       "   Unnamed: 0  0  1  2  3  4\n",
       "0           0  0  7  7  7  1\n",
       "1           1  0  7  7  7  1\n",
       "2           2  0  7  7  6  1\n",
       "3           3  0  7  7  5  1\n",
       "4           4  0  6  7  4  2"
      ]
     },
     "execution_count": 2,
     "metadata": {},
     "output_type": "execute_result"
    }
   ],
   "source": [
    "# Reading out data\n",
    "df = pd.read_csv('../data/file20000.csv')\n",
    "df.head()"
   ]
  },
  {
   "cell_type": "code",
   "execution_count": 3,
   "metadata": {},
   "outputs": [],
   "source": [
    "# Removing redundant column Unnamed: 0\n",
    "df = df.drop('Unnamed: 0', 1)"
   ]
  },
  {
   "cell_type": "markdown",
   "metadata": {},
   "source": [
    "### From the table above we see that the column ```Unnamed: 0``` is redundant, as it shows the count of rows which can be found in pandas table whenever printing a dataframe.\n",
    "\n",
    "### The headers of columns are meaningless. They should be renamed to the following:\n",
    "- First column - My_position,\n",
    "- Second column - Left_line,\n",
    "- Third column - Mid_line,\n",
    "- Fourth column - Right_line,\n",
    "- Fifth column - Action"
   ]
  },
  {
   "cell_type": "code",
   "execution_count": 4,
   "metadata": {
    "scrolled": true
   },
   "outputs": [
    {
     "data": {
      "text/html": [
       "<div>\n",
       "<style scoped>\n",
       "    .dataframe tbody tr th:only-of-type {\n",
       "        vertical-align: middle;\n",
       "    }\n",
       "\n",
       "    .dataframe tbody tr th {\n",
       "        vertical-align: top;\n",
       "    }\n",
       "\n",
       "    .dataframe thead th {\n",
       "        text-align: right;\n",
       "    }\n",
       "</style>\n",
       "<table border=\"1\" class=\"dataframe\">\n",
       "  <thead>\n",
       "    <tr style=\"text-align: right;\">\n",
       "      <th></th>\n",
       "      <th>My_position</th>\n",
       "      <th>Left_line</th>\n",
       "      <th>Mid_line</th>\n",
       "      <th>Right_line</th>\n",
       "      <th>Action</th>\n",
       "    </tr>\n",
       "  </thead>\n",
       "  <tbody>\n",
       "    <tr>\n",
       "      <td>0</td>\n",
       "      <td>0</td>\n",
       "      <td>7</td>\n",
       "      <td>7</td>\n",
       "      <td>7</td>\n",
       "      <td>1</td>\n",
       "    </tr>\n",
       "    <tr>\n",
       "      <td>1</td>\n",
       "      <td>0</td>\n",
       "      <td>7</td>\n",
       "      <td>7</td>\n",
       "      <td>7</td>\n",
       "      <td>1</td>\n",
       "    </tr>\n",
       "    <tr>\n",
       "      <td>2</td>\n",
       "      <td>0</td>\n",
       "      <td>7</td>\n",
       "      <td>7</td>\n",
       "      <td>6</td>\n",
       "      <td>1</td>\n",
       "    </tr>\n",
       "    <tr>\n",
       "      <td>3</td>\n",
       "      <td>0</td>\n",
       "      <td>7</td>\n",
       "      <td>7</td>\n",
       "      <td>5</td>\n",
       "      <td>1</td>\n",
       "    </tr>\n",
       "    <tr>\n",
       "      <td>4</td>\n",
       "      <td>0</td>\n",
       "      <td>6</td>\n",
       "      <td>7</td>\n",
       "      <td>4</td>\n",
       "      <td>2</td>\n",
       "    </tr>\n",
       "  </tbody>\n",
       "</table>\n",
       "</div>"
      ],
      "text/plain": [
       "   My_position  Left_line  Mid_line  Right_line  Action\n",
       "0            0          7         7           7       1\n",
       "1            0          7         7           7       1\n",
       "2            0          7         7           6       1\n",
       "3            0          7         7           5       1\n",
       "4            0          6         7           4       2"
      ]
     },
     "execution_count": 4,
     "metadata": {},
     "output_type": "execute_result"
    }
   ],
   "source": [
    "# Renaming headers of columns\n",
    "df.rename(columns={'0': 'My_position', '1': 'Left_line', '2': 'Mid_line', '3': 'Right_line', '4': 'Action'}, inplace=True)\n",
    "df.head()"
   ]
  },
  {
   "cell_type": "markdown",
   "metadata": {},
   "source": [
    "### ```My_position``` and ```Action``` have integer values from [ 0 to 2 ]\n",
    "### ```Left_line```, ```Middle_line``` and ```Right_line``` have integer values from [ 0 to 8 ]"
   ]
  },
  {
   "cell_type": "code",
   "execution_count": 5,
   "metadata": {
    "scrolled": true
   },
   "outputs": [
    {
     "data": {
      "text/html": [
       "<div>\n",
       "<style scoped>\n",
       "    .dataframe tbody tr th:only-of-type {\n",
       "        vertical-align: middle;\n",
       "    }\n",
       "\n",
       "    .dataframe tbody tr th {\n",
       "        vertical-align: top;\n",
       "    }\n",
       "\n",
       "    .dataframe thead th {\n",
       "        text-align: right;\n",
       "    }\n",
       "</style>\n",
       "<table border=\"1\" class=\"dataframe\">\n",
       "  <thead>\n",
       "    <tr style=\"text-align: right;\">\n",
       "      <th></th>\n",
       "      <th>My_position</th>\n",
       "      <th>Left_line</th>\n",
       "      <th>Mid_line</th>\n",
       "      <th>Right_line</th>\n",
       "      <th>Action</th>\n",
       "    </tr>\n",
       "  </thead>\n",
       "  <tbody>\n",
       "    <tr>\n",
       "      <td>count</td>\n",
       "      <td>20000.000000</td>\n",
       "      <td>20000.000000</td>\n",
       "      <td>20000.000000</td>\n",
       "      <td>20000.000000</td>\n",
       "      <td>20000.000000</td>\n",
       "    </tr>\n",
       "    <tr>\n",
       "      <td>mean</td>\n",
       "      <td>0.941700</td>\n",
       "      <td>3.502200</td>\n",
       "      <td>3.327200</td>\n",
       "      <td>3.418050</td>\n",
       "      <td>1.000100</td>\n",
       "    </tr>\n",
       "    <tr>\n",
       "      <td>std</td>\n",
       "      <td>0.786977</td>\n",
       "      <td>2.645646</td>\n",
       "      <td>2.603282</td>\n",
       "      <td>2.618764</td>\n",
       "      <td>0.447895</td>\n",
       "    </tr>\n",
       "    <tr>\n",
       "      <td>min</td>\n",
       "      <td>0.000000</td>\n",
       "      <td>0.000000</td>\n",
       "      <td>0.000000</td>\n",
       "      <td>0.000000</td>\n",
       "      <td>0.000000</td>\n",
       "    </tr>\n",
       "    <tr>\n",
       "      <td>25%</td>\n",
       "      <td>0.000000</td>\n",
       "      <td>1.000000</td>\n",
       "      <td>1.000000</td>\n",
       "      <td>1.000000</td>\n",
       "      <td>1.000000</td>\n",
       "    </tr>\n",
       "    <tr>\n",
       "      <td>50%</td>\n",
       "      <td>1.000000</td>\n",
       "      <td>3.000000</td>\n",
       "      <td>3.000000</td>\n",
       "      <td>3.000000</td>\n",
       "      <td>1.000000</td>\n",
       "    </tr>\n",
       "    <tr>\n",
       "      <td>75%</td>\n",
       "      <td>2.000000</td>\n",
       "      <td>7.000000</td>\n",
       "      <td>6.000000</td>\n",
       "      <td>6.000000</td>\n",
       "      <td>1.000000</td>\n",
       "    </tr>\n",
       "    <tr>\n",
       "      <td>max</td>\n",
       "      <td>2.000000</td>\n",
       "      <td>7.000000</td>\n",
       "      <td>7.000000</td>\n",
       "      <td>7.000000</td>\n",
       "      <td>2.000000</td>\n",
       "    </tr>\n",
       "  </tbody>\n",
       "</table>\n",
       "</div>"
      ],
      "text/plain": [
       "        My_position     Left_line      Mid_line    Right_line        Action\n",
       "count  20000.000000  20000.000000  20000.000000  20000.000000  20000.000000\n",
       "mean       0.941700      3.502200      3.327200      3.418050      1.000100\n",
       "std        0.786977      2.645646      2.603282      2.618764      0.447895\n",
       "min        0.000000      0.000000      0.000000      0.000000      0.000000\n",
       "25%        0.000000      1.000000      1.000000      1.000000      1.000000\n",
       "50%        1.000000      3.000000      3.000000      3.000000      1.000000\n",
       "75%        2.000000      7.000000      6.000000      6.000000      1.000000\n",
       "max        2.000000      7.000000      7.000000      7.000000      2.000000"
      ]
     },
     "execution_count": 5,
     "metadata": {},
     "output_type": "execute_result"
    }
   ],
   "source": [
    "# Checking data insights\n",
    "df.describe()"
   ]
  },
  {
   "cell_type": "markdown",
   "metadata": {},
   "source": [
    "### From the table above we can assume the following:\n",
    "### ```Mean``` values of all columns are acceptable\n",
    "- For <b>My_position</b> and <b>Action</b> columns the mean is expected to be around 1\n",
    "- For <b>Left_line</b>, <b>Mid_line</b>, <b>Right_line</b> columns the mean is expected to be around 3.5\n",
    "\n",
    "### ```Std``` values of all columns are acceptable, although ```Action``` column seems a bit off\n",
    "- For <b>My_position</b> and <b>Action</b> columns the std is expected to be around 1\n",
    "- For <b>Left_line</b>, <b>Mid_line</b>, <b>Right_line</b> columns the std is expected to be around 2 - 3\n",
    "\n",
    "### ```Min``` values of all columns are correct\n",
    "- For <b>My_position</b> and <b>Action</b> columns the min has to be equal to 0\n",
    "- For <b>Left_line</b>, <b>Mid_line</b>, <b>Right_line</b> columns the min has to be equal to 0\n",
    "\n",
    "### ```25%```, ```50%```, ```75%``` values of all columns are acceptable\n",
    "- For <b>My_position</b> and <b>Action</b> columns the values are expected to be 0, 1, 2 respectively\n",
    "- For <b>Left_line</b>, <b>Mid_line</b>, <b>Right_line</b> columns the values are expected to be 1-2, 3-4, 5-6 respectively\n",
    "\n",
    "### ```Max``` values of all columns are correct\n",
    "- For <b>My_position</b> and <b>Action</b> columns the max has to be equal to 2\n",
    "- For <b>Left_line</b>, <b>Mid_line</b>, <b>Right_line</b> columns the max has to be equal to 7"
   ]
  },
  {
   "cell_type": "code",
   "execution_count": 6,
   "metadata": {
    "scrolled": true
   },
   "outputs": [
    {
     "data": {
      "image/png": "[encoded data removed]",
      "text/plain": [
       "<Figure size 432x288 with 1 Axes>"
      ]
     },
     "metadata": {
      "needs_background": "light"
     },
     "output_type": "display_data"
    }
   ],
   "source": [
    "# Build up a histogram of Actions column to find out why std is small\n",
    "# Action types are as follows: Left - 0, Stay - 1, Right -2\n",
    "column = df['Action']\n",
    "# Set a title for histogram\n",
    "plt.title('Actions', fontsize=20)\n",
    "# Find out amount of unique actions\n",
    "unique_actions = len(column.unique())\n",
    "# Set X axis to have only values of the actions that exist in the column\n",
    "plt.xticks(column.unique())\n",
    "# Show actions that can be performed on the X axiss\n",
    "plt.xlabel('Actions to perform ' + str(column.unique()), fontsize=16)\n",
    "# Show total amount of values the column has\n",
    "plt.ylabel('Frames ( 0, ' + str(len(df['Action'])) + ' )', fontsize=16)\n",
    "# Set the histogram with above properties\n",
    "plt.hist(column, unique_actions, facecolor='blue', ec='black', alpha=0.5)\n",
    "# Show the histogram\n",
    "plt.show()"
   ]
  },
  {
   "cell_type": "markdown",
   "metadata": {},
   "source": [
    "### From the histogram above we can see that most of the actions are 1 which means stay\n",
    "This makes sence, since every 2 frames a new car appears and when it does it has to choose only 1 road line to appear at. Every batch 6 of cells (3 lines in 2 steps) had only 1 car on it, which let my car stand most of the time"
   ]
  },
  {
   "cell_type": "code",
   "execution_count": 7,
   "metadata": {
    "scrolled": false
   },
   "outputs": [
    {
     "data": {
      "text/plain": [
       "1    15988\n",
       "2     2007\n",
       "0     2005\n",
       "Name: Action, dtype: int64"
      ]
     },
     "execution_count": 7,
     "metadata": {},
     "output_type": "execute_result"
    }
   ],
   "source": [
    "# See amount of unique values of Action column\n",
    "df['Action'].value_counts()"
   ]
  },
  {
   "cell_type": "markdown",
   "metadata": {},
   "source": [
    "### If we train our model with this data, it will assume that standing is the best choice in most of the cases. There are several ways to solve this problem. Some of them are listed below:\n",
    "- We need to train some more data saved in another file and add from that to this file new rows with actions other than 1 to this dataset\n",
    "- We need to modify the car appearing function in the game that will make sure cars do not appear after one another\n",
    "- Remove some of the results from this dataframe where action is 1\n"
   ]
  },
  {
   "cell_type": "markdown",
   "metadata": {},
   "source": [
    "#### We will take the last choice and remove some portion of data that has action 1\n",
    "#### Find out the portion to be removed from ~16k down to ~2k. It makes 12.5%\n",
    "#### We will take random number between 0 and 125 and if it is greater than 13 we will remove the Action"
   ]
  },
  {
   "cell_type": "code",
   "execution_count": 8,
   "metadata": {
    "scrolled": true
   },
   "outputs": [],
   "source": [
    "# Set 87.5% of the actions that has value 1 to NaN, so that later they can be removed from db\n",
    "for i in range(len(df['Action'])):\n",
    "    if df['Action'][i] == 1:\n",
    "        a = random.randint(0,100)\n",
    "        if a > 12:\n",
    "            df['Action'][i] = None"
   ]
  },
  {
   "cell_type": "code",
   "execution_count": 9,
   "metadata": {
    "scrolled": true
   },
   "outputs": [],
   "source": [
    "# Remove the rows that have NaN as a result of Action column\n",
    "df = df.dropna()"
   ]
  },
  {
   "cell_type": "code",
   "execution_count": 10,
   "metadata": {
    "scrolled": true
   },
   "outputs": [
    {
     "data": {
      "text/plain": [
       "1.0    2016\n",
       "2.0    2007\n",
       "0.0    2005\n",
       "Name: Action, dtype: int64"
      ]
     },
     "execution_count": 10,
     "metadata": {},
     "output_type": "execute_result"
    }
   ],
   "source": [
    "# Check the unique value counts in the Action column\n",
    "df['Action'].value_counts()"
   ]
  },
  {
   "cell_type": "markdown",
   "metadata": {},
   "source": [
    "### After reducing Action column with specific value 1 by 87.5% we have normalized our dataset. This sort of action will lead to a better performance during training the model\n",
    "### Now it is time to separate input data and labels and split it into train and test datasets"
   ]
  },
  {
   "cell_type": "code",
   "execution_count": 11,
   "metadata": {
    "scrolled": true
   },
   "outputs": [
    {
     "data": {
      "text/html": [
       "<div>\n",
       "<style scoped>\n",
       "    .dataframe tbody tr th:only-of-type {\n",
       "        vertical-align: middle;\n",
       "    }\n",
       "\n",
       "    .dataframe tbody tr th {\n",
       "        vertical-align: top;\n",
       "    }\n",
       "\n",
       "    .dataframe thead th {\n",
       "        text-align: right;\n",
       "    }\n",
       "</style>\n",
       "<table border=\"1\" class=\"dataframe\">\n",
       "  <thead>\n",
       "    <tr style=\"text-align: right;\">\n",
       "      <th></th>\n",
       "      <th>My_position</th>\n",
       "      <th>Left_line</th>\n",
       "      <th>Mid_line</th>\n",
       "      <th>Right_line</th>\n",
       "    </tr>\n",
       "  </thead>\n",
       "  <tbody>\n",
       "    <tr>\n",
       "      <td>4</td>\n",
       "      <td>0</td>\n",
       "      <td>6</td>\n",
       "      <td>7</td>\n",
       "      <td>4</td>\n",
       "    </tr>\n",
       "    <tr>\n",
       "      <td>11</td>\n",
       "      <td>1</td>\n",
       "      <td>7</td>\n",
       "      <td>3</td>\n",
       "      <td>1</td>\n",
       "    </tr>\n",
       "    <tr>\n",
       "      <td>15</td>\n",
       "      <td>0</td>\n",
       "      <td>3</td>\n",
       "      <td>7</td>\n",
       "      <td>1</td>\n",
       "    </tr>\n",
       "    <tr>\n",
       "      <td>21</td>\n",
       "      <td>1</td>\n",
       "      <td>5</td>\n",
       "      <td>3</td>\n",
       "      <td>1</td>\n",
       "    </tr>\n",
       "    <tr>\n",
       "      <td>24</td>\n",
       "      <td>0</td>\n",
       "      <td>2</td>\n",
       "      <td>0</td>\n",
       "      <td>7</td>\n",
       "    </tr>\n",
       "  </tbody>\n",
       "</table>\n",
       "</div>"
      ],
      "text/plain": [
       "    My_position  Left_line  Mid_line  Right_line\n",
       "4             0          6         7           4\n",
       "11            1          7         3           1\n",
       "15            0          3         7           1\n",
       "21            1          5         3           1\n",
       "24            0          2         0           7"
      ]
     },
     "execution_count": 11,
     "metadata": {},
     "output_type": "execute_result"
    }
   ],
   "source": [
    "# Remove Action column and assign the rest to the new variable of input data\n",
    "input_data = df.drop('Action',1)\n",
    "input_data.head()"
   ]
  },
  {
   "cell_type": "code",
   "execution_count": 12,
   "metadata": {
    "scrolled": true
   },
   "outputs": [],
   "source": [
    "# Take only Action column to represent labels for the prediction\n",
    "output_data = df['Action']"
   ]
  },
  {
   "cell_type": "code",
   "execution_count": 13,
   "metadata": {
    "scrolled": true
   },
   "outputs": [],
   "source": [
    "# Perform train test split of 20%\n",
    "X_train, X_test, y_train, y_test = train_test_split(input_data, output_data, test_size=0.20, random_state=7)"
   ]
  },
  {
   "cell_type": "code",
   "execution_count": 14,
   "metadata": {},
   "outputs": [],
   "source": [
    "# Prepare train and test labels into categorical model by 1 hot encoding it\n",
    "y_train = keras.utils.to_categorical(y_train, 3)\n",
    "y_test = keras.utils.to_categorical(y_test, 3)"
   ]
  },
  {
   "cell_type": "code",
   "execution_count": 15,
   "metadata": {},
   "outputs": [
    {
     "name": "stdout",
     "output_type": "stream",
     "text": [
      "WARNING:tensorflow:From /opt/anaconda3/lib/python3.7/site-packages/keras/backend/tensorflow_backend.py:74: The name tf.get_default_graph is deprecated. Please use tf.compat.v1.get_default_graph instead.\n",
      "\n",
      "WARNING:tensorflow:From /opt/anaconda3/lib/python3.7/site-packages/keras/backend/tensorflow_backend.py:517: The name tf.placeholder is deprecated. Please use tf.compat.v1.placeholder instead.\n",
      "\n",
      "WARNING:tensorflow:From /opt/anaconda3/lib/python3.7/site-packages/keras/backend/tensorflow_backend.py:4138: The name tf.random_uniform is deprecated. Please use tf.random.uniform instead.\n",
      "\n"
     ]
    }
   ],
   "source": [
    "# Define the keras model\n",
    "model = Sequential()\n",
    "model.add(Dense(16, input_shape=(4, )))\n",
    "model.add(Activation('relu'))\n",
    "model.add(Dense(16, input_shape=(16, )))\n",
    "model.add(Activation('relu'))\n",
    "model.add(Dense(3))\n",
    "model.add(Activation('softmax'))"
   ]
  },
  {
   "cell_type": "code",
   "execution_count": 16,
   "metadata": {},
   "outputs": [
    {
     "name": "stdout",
     "output_type": "stream",
     "text": [
      "WARNING:tensorflow:From /opt/anaconda3/lib/python3.7/site-packages/keras/optimizers.py:790: The name tf.train.Optimizer is deprecated. Please use tf.compat.v1.train.Optimizer instead.\n",
      "\n",
      "WARNING:tensorflow:From /opt/anaconda3/lib/python3.7/site-packages/keras/backend/tensorflow_backend.py:3295: The name tf.log is deprecated. Please use tf.math.log instead.\n",
      "\n"
     ]
    }
   ],
   "source": [
    "# Compile the previously defined model\n",
    "model.compile(\n",
    "            optimizer='adam',\n",
    "            loss='categorical_crossentropy',\n",
    "            metrics=['accuracy'])"
   ]
  },
  {
   "cell_type": "code",
   "execution_count": 17,
   "metadata": {
    "scrolled": false
   },
   "outputs": [
    {
     "name": "stdout",
     "output_type": "stream",
     "text": [
      "WARNING:tensorflow:From /opt/anaconda3/lib/python3.7/site-packages/tensorflow_core/python/ops/math_grad.py:1424: where (from tensorflow.python.ops.array_ops) is deprecated and will be removed in a future version.\n",
      "Instructions for updating:\n",
      "Use tf.where in 2.0, which has the same broadcast rule as np.where\n",
      "WARNING:tensorflow:From /opt/anaconda3/lib/python3.7/site-packages/keras/backend/tensorflow_backend.py:986: The name tf.assign_add is deprecated. Please use tf.compat.v1.assign_add instead.\n",
      "\n",
      "WARNING:tensorflow:From /opt/anaconda3/lib/python3.7/site-packages/keras/backend/tensorflow_backend.py:973: The name tf.assign is deprecated. Please use tf.compat.v1.assign instead.\n",
      "\n",
      "WARNING:tensorflow:From /opt/anaconda3/lib/python3.7/site-packages/keras/backend/tensorflow_backend.py:2741: The name tf.Session is deprecated. Please use tf.compat.v1.Session instead.\n",
      "\n",
      "Epoch 1/50\n",
      "WARNING:tensorflow:From /opt/anaconda3/lib/python3.7/site-packages/keras/backend/tensorflow_backend.py:174: The name tf.get_default_session is deprecated. Please use tf.compat.v1.get_default_session instead.\n",
      "\n",
      "WARNING:tensorflow:From /opt/anaconda3/lib/python3.7/site-packages/keras/backend/tensorflow_backend.py:181: The name tf.ConfigProto is deprecated. Please use tf.compat.v1.ConfigProto instead.\n",
      "\n",
      "WARNING:tensorflow:From /opt/anaconda3/lib/python3.7/site-packages/keras/backend/tensorflow_backend.py:190: The name tf.global_variables is deprecated. Please use tf.compat.v1.global_variables instead.\n",
      "\n",
      "WARNING:tensorflow:From /opt/anaconda3/lib/python3.7/site-packages/keras/backend/tensorflow_backend.py:199: The name tf.is_variable_initialized is deprecated. Please use tf.compat.v1.is_variable_initialized instead.\n",
      "\n",
      "WARNING:tensorflow:From /opt/anaconda3/lib/python3.7/site-packages/keras/backend/tensorflow_backend.py:206: The name tf.variables_initializer is deprecated. Please use tf.compat.v1.variables_initializer instead.\n",
      "\n",
      "4822/4822 [==============================] - 4s 897us/step - loss: 0.8181 - acc: 0.6634\n",
      "Epoch 2/50\n",
      "4822/4822 [==============================] - 2s 438us/step - loss: 0.4324 - acc: 0.8822\n",
      "Epoch 3/50\n",
      "4822/4822 [==============================] - 2s 422us/step - loss: 0.3253 - acc: 0.9162\n",
      "Epoch 4/50\n",
      "4822/4822 [==============================] - 2s 401us/step - loss: 0.2732 - acc: 0.9361\n",
      "Epoch 5/50\n",
      "4822/4822 [==============================] - 2s 407us/step - loss: 0.2394 - acc: 0.9531\n",
      "Epoch 6/50\n",
      "4822/4822 [==============================] - 2s 408us/step - loss: 0.2082 - acc: 0.9608\n",
      "Epoch 7/50\n",
      "4822/4822 [==============================] - 2s 425us/step - loss: 0.1779 - acc: 0.9656\n",
      "Epoch 8/50\n",
      "4822/4822 [==============================] - 2s 434us/step - loss: 0.1487 - acc: 0.9693\n",
      "Epoch 9/50\n",
      "4822/4822 [==============================] - 2s 433us/step - loss: 0.1217 - acc: 0.9699\n",
      "Epoch 10/50\n",
      "4822/4822 [==============================] - 2s 435us/step - loss: 0.1045 - acc: 0.9714\n",
      "Epoch 11/50\n",
      "4822/4822 [==============================] - ETA: 0s - loss: 0.0870 - acc: 0.974 - 2s 441us/step - loss: 0.0870 - acc: 0.9743\n",
      "Epoch 12/50\n",
      "4822/4822 [==============================] - 2s 448us/step - loss: 0.0721 - acc: 0.9793\n",
      "Epoch 13/50\n",
      "4822/4822 [==============================] - 2s 453us/step - loss: 0.0596 - acc: 0.9830\n",
      "Epoch 14/50\n",
      "4822/4822 [==============================] - 2s 454us/step - loss: 0.0484 - acc: 0.9871\n",
      "Epoch 15/50\n",
      "4822/4822 [==============================] - 2s 468us/step - loss: 0.0379 - acc: 0.9938\n",
      "Epoch 16/50\n",
      "4822/4822 [==============================] - 2s 469us/step - loss: 0.0294 - acc: 0.9965\n",
      "Epoch 17/50\n",
      "4822/4822 [==============================] - 2s 469us/step - loss: 0.0225 - acc: 0.9985\n",
      "Epoch 18/50\n",
      "4822/4822 [==============================] - 2s 481us/step - loss: 0.0173 - acc: 0.9996\n",
      "Epoch 19/50\n",
      "4822/4822 [==============================] - 2s 481us/step - loss: 0.0134 - acc: 0.9998\n",
      "Epoch 20/50\n",
      "4822/4822 [==============================] - 2s 484us/step - loss: 0.0104 - acc: 1.0000\n",
      "Epoch 21/50\n",
      "4822/4822 [==============================] - 2s 483us/step - loss: 0.0076 - acc: 1.0000\n",
      "Epoch 22/50\n",
      "4822/4822 [==============================] - 2s 486us/step - loss: 0.0061 - acc: 1.0000\n",
      "Epoch 23/50\n",
      "4822/4822 [==============================] - 2s 502us/step - loss: 0.0047 - acc: 1.0000\n",
      "Epoch 24/50\n",
      "4822/4822 [==============================] - 2s 497us/step - loss: 0.0035 - acc: 1.0000\n",
      "Epoch 25/50\n",
      "4822/4822 [==============================] - 2s 499us/step - loss: 0.0030 - acc: 1.0000\n",
      "Epoch 26/50\n",
      "4822/4822 [==============================] - 2s 499us/step - loss: 0.0027 - acc: 1.0000\n",
      "Epoch 27/50\n",
      "4822/4822 [==============================] - 2s 498us/step - loss: 0.0018 - acc: 1.0000\n",
      "Epoch 28/50\n",
      "4822/4822 [==============================] - 2s 503us/step - loss: 0.0014 - acc: 1.0000\n",
      "Epoch 29/50\n",
      "4822/4822 [==============================] - 2s 497us/step - loss: 0.0018 - acc: 0.9998\n",
      "Epoch 30/50\n",
      "4822/4822 [==============================] - 2s 502us/step - loss: 0.0016 - acc: 0.9996\n",
      "Epoch 31/50\n",
      "4822/4822 [==============================] - 3s 519us/step - loss: 8.3916e-04 - acc: 1.0000\n",
      "Epoch 32/50\n",
      "4822/4822 [==============================] - 2s 491us/step - loss: 7.8701e-04 - acc: 1.0000\n",
      "Epoch 33/50\n",
      "4822/4822 [==============================] - 2s 505us/step - loss: 6.8340e-04 - acc: 1.0000\n",
      "Epoch 34/50\n",
      "4822/4822 [==============================] - 3s 519us/step - loss: 5.7631e-04 - acc: 1.0000\n",
      "Epoch 35/50\n",
      "4822/4822 [==============================] - 3s 524us/step - loss: 4.9913e-04 - acc: 1.0000\n",
      "Epoch 36/50\n",
      "4822/4822 [==============================] - 3s 542us/step - loss: 4.9740e-04 - acc: 1.0000 1s - loss:\n",
      "Epoch 37/50\n",
      "4822/4822 [==============================] - 3s 529us/step - loss: 3.5398e-04 - acc: 1.0000\n",
      "Epoch 38/50\n",
      "4822/4822 [==============================] - 3s 520us/step - loss: 2.9458e-04 - acc: 1.0000\n",
      "Epoch 39/50\n",
      "4822/4822 [==============================] - 3s 527us/step - loss: 2.3337e-04 - acc: 1.0000\n",
      "Epoch 40/50\n",
      "4822/4822 [==============================] - 3s 531us/step - loss: 2.0646e-04 - acc: 1.0000\n",
      "Epoch 41/50\n",
      "4822/4822 [==============================] - 2s 515us/step - loss: 1.7716e-04 - acc: 1.0000\n",
      "Epoch 42/50\n",
      "4822/4822 [==============================] - 3s 537us/step - loss: 0.0022 - acc: 0.9992\n",
      "Epoch 43/50\n",
      "4822/4822 [==============================] - 3s 539us/step - loss: 1.0882e-04 - acc: 1.0000\n",
      "Epoch 44/50\n",
      "4822/4822 [==============================] - 3s 536us/step - loss: 1.0458e-04 - acc: 1.0000\n",
      "Epoch 45/50\n",
      "4822/4822 [==============================] - 2s 510us/step - loss: 9.7224e-05 - acc: 1.0000\n",
      "Epoch 46/50\n",
      "4822/4822 [==============================] - 2s 515us/step - loss: 8.8571e-05 - acc: 1.0000\n",
      "Epoch 47/50\n",
      "4822/4822 [==============================] - 3s 520us/step - loss: 8.5660e-05 - acc: 1.0000\n",
      "Epoch 48/50\n",
      "4822/4822 [==============================] - 2s 514us/step - loss: 7.6364e-05 - acc: 1.0000\n",
      "Epoch 49/50\n",
      "4822/4822 [==============================] - 3s 525us/step - loss: 7.3234e-05 - acc: 1.0000\n",
      "Epoch 50/50\n",
      "4822/4822 [==============================] - 3s 543us/step - loss: 6.5495e-05 - acc: 1.0000\n"
     ]
    },
    {
     "data": {
      "text/plain": [
       "<keras.callbacks.History at 0x1a43d64a90>"
      ]
     },
     "execution_count": 17,
     "metadata": {},
     "output_type": "execute_result"
    }
   ],
   "source": [
    "# Train the keras model with the train dataset on 100 epochs with batch size of 10\n",
    "model.fit(X_train, y_train, epochs=50, batch_size=10)"
   ]
  },
  {
   "cell_type": "code",
   "execution_count": 18,
   "metadata": {},
   "outputs": [
    {
     "name": "stdout",
     "output_type": "stream",
     "text": [
      "1206/1206 [==============================] - 0s 307us/step\n",
      "Accuracy: 99.92\n"
     ]
    }
   ],
   "source": [
    "# Evaluate the keras model\n",
    "_, accuracy = model.evaluate(X_test, y_test)\n",
    "print('Accuracy: %.2f' % (accuracy*100))"
   ]
  },
  {
   "cell_type": "code",
   "execution_count": 19,
   "metadata": {},
   "outputs": [],
   "source": [
    "# Creates a HDF5 file 'my_model.h5'\n",
    "model.save('../models/categorical_crossentropy.h5')"
   ]
  },
  {
   "cell_type": "code",
   "execution_count": null,
   "metadata": {},
   "outputs": [],
   "source": []
  }
 ],
 "metadata": {
  "kernelspec": {
   "display_name": "Python 3",
   "language": "python",
   "name": "python3"
  },
  "language_info": {
   "codemirror_mode": {
    "name": "ipython",
    "version": 3
   },
   "file_extension": ".py",
   "mimetype": "text/x-python",
   "name": "python",
   "nbconvert_exporter": "python",
   "pygments_lexer": "ipython3",
   "version": "3.7.4"
  }
 },
 "nbformat": 4,
 "nbformat_minor": 2
}
