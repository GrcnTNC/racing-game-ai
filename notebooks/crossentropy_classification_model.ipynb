{
 "cells": [
  {
   "cell_type": "markdown",
   "metadata": {},
   "source": [
    "# This notebook is meant to train a Neural Network model using keras for a Racing Game Environment"
   ]
  },
  {
   "cell_type": "markdown",
   "metadata": {},
   "source": [
    "### Parameters\n",
    "- Optimizer - Adam\n",
    "- Loss function - Categorical Crossentropy\n",
    "- Input layer - 4 values\n",
    "- Output layer - 3 categories\n",
    "- Hidden layer - 1 layer with 16 nodes\n",
    "- Epochs - 100\n",
    "- Batch size - 10"
   ]
  },
  {
   "cell_type": "code",
   "execution_count": 296,
   "metadata": {},
   "outputs": [],
   "source": [
    "# Importing necessery libraries\n",
    "%matplotlib inline\n",
    "from numpy import loadtxt\n",
    "from keras.models import Sequential\n",
    "from keras.layers import Dense, Dropout, Activation\n",
    "import pandas as pd\n",
    "from sklearn.model_selection import train_test_split\n",
    "import random\n",
    "import keras\n",
    "from keras.models import load_model\n",
    "import matplotlib.pyplot as plt"
   ]
  },
  {
   "cell_type": "code",
   "execution_count": 291,
   "metadata": {
    "scrolled": false
   },
   "outputs": [
    {
     "data": {
      "text/html": [
       "<div>\n",
       "<style scoped>\n",
       "    .dataframe tbody tr th:only-of-type {\n",
       "        vertical-align: middle;\n",
       "    }\n",
       "\n",
       "    .dataframe tbody tr th {\n",
       "        vertical-align: top;\n",
       "    }\n",
       "\n",
       "    .dataframe thead th {\n",
       "        text-align: right;\n",
       "    }\n",
       "</style>\n",
       "<table border=\"1\" class=\"dataframe\">\n",
       "  <thead>\n",
       "    <tr style=\"text-align: right;\">\n",
       "      <th></th>\n",
       "      <th>Unnamed: 0</th>\n",
       "      <th>0</th>\n",
       "      <th>1</th>\n",
       "      <th>2</th>\n",
       "      <th>3</th>\n",
       "      <th>4</th>\n",
       "    </tr>\n",
       "  </thead>\n",
       "  <tbody>\n",
       "    <tr>\n",
       "      <td>0</td>\n",
       "      <td>0</td>\n",
       "      <td>1.0</td>\n",
       "      <td>7</td>\n",
       "      <td>7</td>\n",
       "      <td>7</td>\n",
       "      <td>0</td>\n",
       "    </tr>\n",
       "    <tr>\n",
       "      <td>1</td>\n",
       "      <td>1</td>\n",
       "      <td>0.0</td>\n",
       "      <td>7</td>\n",
       "      <td>7</td>\n",
       "      <td>7</td>\n",
       "      <td>1</td>\n",
       "    </tr>\n",
       "    <tr>\n",
       "      <td>2</td>\n",
       "      <td>2</td>\n",
       "      <td>0.0</td>\n",
       "      <td>7</td>\n",
       "      <td>7</td>\n",
       "      <td>6</td>\n",
       "      <td>1</td>\n",
       "    </tr>\n",
       "    <tr>\n",
       "      <td>3</td>\n",
       "      <td>3</td>\n",
       "      <td>0.0</td>\n",
       "      <td>7</td>\n",
       "      <td>7</td>\n",
       "      <td>5</td>\n",
       "      <td>1</td>\n",
       "    </tr>\n",
       "    <tr>\n",
       "      <td>4</td>\n",
       "      <td>4</td>\n",
       "      <td>0.0</td>\n",
       "      <td>7</td>\n",
       "      <td>6</td>\n",
       "      <td>4</td>\n",
       "      <td>1</td>\n",
       "    </tr>\n",
       "  </tbody>\n",
       "</table>\n",
       "</div>"
      ],
      "text/plain": [
       "   Unnamed: 0    0  1  2  3  4\n",
       "0           0  1.0  7  7  7  0\n",
       "1           1  0.0  7  7  7  1\n",
       "2           2  0.0  7  7  6  1\n",
       "3           3  0.0  7  7  5  1\n",
       "4           4  0.0  7  6  4  1"
      ]
     },
     "execution_count": 291,
     "metadata": {},
     "output_type": "execute_result"
    }
   ],
   "source": [
    "# Reading out data\n",
    "df = pd.read_csv('../data/file20000.csv')\n",
    "df.head()"
   ]
  },
  {
   "cell_type": "code",
   "execution_count": 292,
   "metadata": {},
   "outputs": [],
   "source": [
    "# Removing redundant column Unnamed: 0\n",
    "df = df.drop('Unnamed: 0', 1)"
   ]
  },
  {
   "cell_type": "markdown",
   "metadata": {},
   "source": [
    "### From the table above we see that the column ```Unnamed: 0``` is redundant, as it shows the count of rows which can be found in pandas table whenever printing a dataframe.\n",
    "\n",
    "### The headers of columns are meaningless. They should be renamed to the following:\n",
    "- First column - My_position,\n",
    "- Second column - Left_line,\n",
    "- Third column - Mid_line,\n",
    "- Fourth column - Right_line,\n",
    "- Fifth column - Action"
   ]
  },
  {
   "cell_type": "code",
   "execution_count": 253,
   "metadata": {
    "scrolled": true
   },
   "outputs": [
    {
     "data": {
      "text/html": [
       "<div>\n",
       "<style scoped>\n",
       "    .dataframe tbody tr th:only-of-type {\n",
       "        vertical-align: middle;\n",
       "    }\n",
       "\n",
       "    .dataframe tbody tr th {\n",
       "        vertical-align: top;\n",
       "    }\n",
       "\n",
       "    .dataframe thead th {\n",
       "        text-align: right;\n",
       "    }\n",
       "</style>\n",
       "<table border=\"1\" class=\"dataframe\">\n",
       "  <thead>\n",
       "    <tr style=\"text-align: right;\">\n",
       "      <th></th>\n",
       "      <th>My_position</th>\n",
       "      <th>Left_line</th>\n",
       "      <th>Mid_line</th>\n",
       "      <th>Right_line</th>\n",
       "      <th>Action</th>\n",
       "    </tr>\n",
       "  </thead>\n",
       "  <tbody>\n",
       "    <tr>\n",
       "      <td>0</td>\n",
       "      <td>1.0</td>\n",
       "      <td>7</td>\n",
       "      <td>7</td>\n",
       "      <td>7</td>\n",
       "      <td>0</td>\n",
       "    </tr>\n",
       "    <tr>\n",
       "      <td>1</td>\n",
       "      <td>0.0</td>\n",
       "      <td>7</td>\n",
       "      <td>7</td>\n",
       "      <td>7</td>\n",
       "      <td>1</td>\n",
       "    </tr>\n",
       "    <tr>\n",
       "      <td>2</td>\n",
       "      <td>0.0</td>\n",
       "      <td>7</td>\n",
       "      <td>7</td>\n",
       "      <td>6</td>\n",
       "      <td>1</td>\n",
       "    </tr>\n",
       "    <tr>\n",
       "      <td>3</td>\n",
       "      <td>0.0</td>\n",
       "      <td>7</td>\n",
       "      <td>7</td>\n",
       "      <td>5</td>\n",
       "      <td>1</td>\n",
       "    </tr>\n",
       "    <tr>\n",
       "      <td>4</td>\n",
       "      <td>0.0</td>\n",
       "      <td>7</td>\n",
       "      <td>6</td>\n",
       "      <td>4</td>\n",
       "      <td>1</td>\n",
       "    </tr>\n",
       "  </tbody>\n",
       "</table>\n",
       "</div>"
      ],
      "text/plain": [
       "   My_position  Left_line  Mid_line  Right_line  Action\n",
       "0          1.0          7         7           7       0\n",
       "1          0.0          7         7           7       1\n",
       "2          0.0          7         7           6       1\n",
       "3          0.0          7         7           5       1\n",
       "4          0.0          7         6           4       1"
      ]
     },
     "execution_count": 253,
     "metadata": {},
     "output_type": "execute_result"
    }
   ],
   "source": [
    "# Renaming headers of columns\n",
    "df.rename(columns={'0': 'My_position', '1': 'Left_line', '2': 'Mid_line', '3': 'Right_line', '4': 'Action'}, inplace=True)\n",
    "df.head()"
   ]
  },
  {
   "cell_type": "markdown",
   "metadata": {},
   "source": [
    "### ```My_position``` and ```Action``` have integer values from [ 0 to 2 ]\n",
    "### ```Left_line```, ```Middle_line``` and ```Right_line``` have integer values from [ 0 to 8 ]"
   ]
  },
  {
   "cell_type": "code",
   "execution_count": 254,
   "metadata": {
    "scrolled": true
   },
   "outputs": [
    {
     "data": {
      "text/html": [
       "<div>\n",
       "<style scoped>\n",
       "    .dataframe tbody tr th:only-of-type {\n",
       "        vertical-align: middle;\n",
       "    }\n",
       "\n",
       "    .dataframe tbody tr th {\n",
       "        vertical-align: top;\n",
       "    }\n",
       "\n",
       "    .dataframe thead th {\n",
       "        text-align: right;\n",
       "    }\n",
       "</style>\n",
       "<table border=\"1\" class=\"dataframe\">\n",
       "  <thead>\n",
       "    <tr style=\"text-align: right;\">\n",
       "      <th></th>\n",
       "      <th>My_position</th>\n",
       "      <th>Left_line</th>\n",
       "      <th>Mid_line</th>\n",
       "      <th>Right_line</th>\n",
       "      <th>Action</th>\n",
       "    </tr>\n",
       "  </thead>\n",
       "  <tbody>\n",
       "    <tr>\n",
       "      <td>count</td>\n",
       "      <td>20000.000000</td>\n",
       "      <td>20000.00000</td>\n",
       "      <td>20000.000000</td>\n",
       "      <td>20000.000000</td>\n",
       "      <td>20000.000000</td>\n",
       "    </tr>\n",
       "    <tr>\n",
       "      <td>mean</td>\n",
       "      <td>0.972250</td>\n",
       "      <td>3.43365</td>\n",
       "      <td>3.437900</td>\n",
       "      <td>3.418200</td>\n",
       "      <td>0.999950</td>\n",
       "    </tr>\n",
       "    <tr>\n",
       "      <td>std</td>\n",
       "      <td>0.783269</td>\n",
       "      <td>2.62386</td>\n",
       "      <td>2.600477</td>\n",
       "      <td>2.619456</td>\n",
       "      <td>0.450067</td>\n",
       "    </tr>\n",
       "    <tr>\n",
       "      <td>min</td>\n",
       "      <td>0.000000</td>\n",
       "      <td>0.00000</td>\n",
       "      <td>0.000000</td>\n",
       "      <td>0.000000</td>\n",
       "      <td>0.000000</td>\n",
       "    </tr>\n",
       "    <tr>\n",
       "      <td>25%</td>\n",
       "      <td>0.000000</td>\n",
       "      <td>1.00000</td>\n",
       "      <td>1.000000</td>\n",
       "      <td>1.000000</td>\n",
       "      <td>1.000000</td>\n",
       "    </tr>\n",
       "    <tr>\n",
       "      <td>50%</td>\n",
       "      <td>1.000000</td>\n",
       "      <td>3.00000</td>\n",
       "      <td>3.000000</td>\n",
       "      <td>3.000000</td>\n",
       "      <td>1.000000</td>\n",
       "    </tr>\n",
       "    <tr>\n",
       "      <td>75%</td>\n",
       "      <td>2.000000</td>\n",
       "      <td>6.25000</td>\n",
       "      <td>6.000000</td>\n",
       "      <td>6.000000</td>\n",
       "      <td>1.000000</td>\n",
       "    </tr>\n",
       "    <tr>\n",
       "      <td>max</td>\n",
       "      <td>2.000000</td>\n",
       "      <td>7.00000</td>\n",
       "      <td>7.000000</td>\n",
       "      <td>7.000000</td>\n",
       "      <td>2.000000</td>\n",
       "    </tr>\n",
       "  </tbody>\n",
       "</table>\n",
       "</div>"
      ],
      "text/plain": [
       "        My_position    Left_line      Mid_line    Right_line        Action\n",
       "count  20000.000000  20000.00000  20000.000000  20000.000000  20000.000000\n",
       "mean       0.972250      3.43365      3.437900      3.418200      0.999950\n",
       "std        0.783269      2.62386      2.600477      2.619456      0.450067\n",
       "min        0.000000      0.00000      0.000000      0.000000      0.000000\n",
       "25%        0.000000      1.00000      1.000000      1.000000      1.000000\n",
       "50%        1.000000      3.00000      3.000000      3.000000      1.000000\n",
       "75%        2.000000      6.25000      6.000000      6.000000      1.000000\n",
       "max        2.000000      7.00000      7.000000      7.000000      2.000000"
      ]
     },
     "execution_count": 254,
     "metadata": {},
     "output_type": "execute_result"
    }
   ],
   "source": [
    "# Checking data insights\n",
    "df.describe()"
   ]
  },
  {
   "cell_type": "markdown",
   "metadata": {},
   "source": [
    "### From the table above we can assume the following:\n",
    "### ```Mean``` values of all columns are acceptable\n",
    "- For <b>My_position</b> and <b>Action</b> columns the mean is expected to be around 1\n",
    "- For <b>Left_line</b>, <b>Mid_line</b>, <b>Right_line</b> columns the mean is expected to be around 3.5\n",
    "\n",
    "### ```Std``` values of all columns are acceptable, although ```Action``` column seems a bit off\n",
    "- For <b>My_position</b> and <b>Action</b> columns the std is expected to be around 1\n",
    "- For <b>Left_line</b>, <b>Mid_line</b>, <b>Right_line</b> columns the std is expected to be around 2 - 3\n",
    "\n",
    "### ```Min``` values of all columns are correct\n",
    "- For <b>My_position</b> and <b>Action</b> columns the min has to be equal to 0\n",
    "- For <b>Left_line</b>, <b>Mid_line</b>, <b>Right_line</b> columns the min has to be equal to 0\n",
    "\n",
    "### ```25%```, ```50%```, ```75%``` values of all columns are acceptable\n",
    "- For <b>My_position</b> and <b>Action</b> columns the values are expected to be 0, 1, 2 respectively\n",
    "- For <b>Left_line</b>, <b>Mid_line</b>, <b>Right_line</b> columns the values are expected to be 1-2, 3-4, 5-6 respectively\n",
    "\n",
    "### ```Max``` values of all columns are correct\n",
    "- For <b>My_position</b> and <b>Action</b> columns the max has to be equal to 2\n",
    "- For <b>Left_line</b>, <b>Mid_line</b>, <b>Right_line</b> columns the max has to be equal to 7"
   ]
  },
  {
   "cell_type": "code",
   "execution_count": 255,
   "metadata": {
    "scrolled": true
   },
   "outputs": [
    {
     "data": {
      "image/png": "[encoded data removed]",
      "text/plain": [
       "<Figure size 432x288 with 1 Axes>"
      ]
     },
     "metadata": {
      "needs_background": "light"
     },
     "output_type": "display_data"
    }
   ],
   "source": [
    "# Build up a histogram of Actions column to find out why std is small\n",
    "# Action types are as follows: Left - 0, Stay - 1, Right -2\n",
    "column = df['Action']\n",
    "# Set a title for histogram\n",
    "plt.title('Actions', fontsize=20)\n",
    "# Find out amount of unique actions\n",
    "unique_actions = len(column.unique())\n",
    "# Set X axis to have only values of the actions that exist in the column\n",
    "plt.xticks(column.unique())\n",
    "# Show actions that can be performed on the X axiss\n",
    "plt.xlabel('Actions to perform ' + str(column.unique()), fontsize=16)\n",
    "# Show total amount of values the column has\n",
    "plt.ylabel('Frames ( 0, ' + str(len(df['Action'])) + ' )', fontsize=16)\n",
    "# Set the histogram with above properties\n",
    "plt.hist(column, unique_actions, facecolor='blue', ec='black', alpha=0.5)\n",
    "# Show the histogram\n",
    "plt.show()"
   ]
  },
  {
   "cell_type": "markdown",
   "metadata": {},
   "source": [
    "### From the histogram above we can see that most of the actions are 1 which means stay\n",
    "This makes sence, since every 2 frames a new car appears and when it does it has to choose only 1 road line to appear at. Every batch 6 of cells (3 lines in 2 steps) had only 1 car on it, which let my car stand most of the time"
   ]
  },
  {
   "cell_type": "code",
   "execution_count": 256,
   "metadata": {
    "scrolled": false
   },
   "outputs": [
    {
     "data": {
      "text/plain": [
       "1    15949\n",
       "0     2026\n",
       "2     2025\n",
       "Name: Action, dtype: int64"
      ]
     },
     "execution_count": 256,
     "metadata": {},
     "output_type": "execute_result"
    }
   ],
   "source": [
    "# See amount of unique values of Action column\n",
    "df['Action'].value_counts()"
   ]
  },
  {
   "cell_type": "markdown",
   "metadata": {},
   "source": [
    "### If we train our model with this data, it will assume that standing is the best choice in most of the cases. There are several ways to solve this problem. Some of them are listed below:\n",
    "- We need to train some more data saved in another file and add from that to this file new rows with actions other than 1 to this dataset\n",
    "- We need to modify the car appearing function in the game that will make sure cars do not appear after one another\n",
    "- Remove some of the results from this dataframe where action is 1\n"
   ]
  },
  {
   "cell_type": "markdown",
   "metadata": {},
   "source": [
    "#### We will take the last choice and remove some portion of data that has action 1\n",
    "#### Find out the portion to be removed from ~16k down to ~2k. It makes 12.5%\n",
    "#### We will take random number between 0 and 125 and if it is greater than 13 we will remove the Action"
   ]
  },
  {
   "cell_type": "code",
   "execution_count": 257,
   "metadata": {
    "scrolled": true
   },
   "outputs": [
    {
     "name": "stderr",
     "output_type": "stream",
     "text": [
      "/opt/anaconda3/lib/python3.7/site-packages/ipykernel_launcher.py:6: SettingWithCopyWarning: \n",
      "A value is trying to be set on a copy of a slice from a DataFrame\n",
      "\n",
      "See the caveats in the documentation: http://pandas.pydata.org/pandas-docs/stable/user_guide/indexing.html#returning-a-view-versus-a-copy\n",
      "  \n"
     ]
    }
   ],
   "source": [
    "# Set 87.5% of the actions that has value 1 to NaN, so that later they can be removed from db\n",
    "for i in range(len(df['Action'])):\n",
    "    if df['Action'][i] == 1:\n",
    "        a = random.randint(0,100)\n",
    "        if a > 12:\n",
    "            df['Action'][i] = None"
   ]
  },
  {
   "cell_type": "code",
   "execution_count": 261,
   "metadata": {
    "scrolled": true
   },
   "outputs": [],
   "source": [
    "# Remove the rows that have NaN as a result of Action column\n",
    "df = df.dropna()"
   ]
  },
  {
   "cell_type": "code",
   "execution_count": 263,
   "metadata": {
    "scrolled": true
   },
   "outputs": [
    {
     "data": {
      "text/plain": [
       "1.0    2061\n",
       "0.0    2026\n",
       "2.0    2025\n",
       "Name: Action, dtype: int64"
      ]
     },
     "execution_count": 263,
     "metadata": {},
     "output_type": "execute_result"
    }
   ],
   "source": [
    "# Check the unique value counts in the Action column\n",
    "df['Action'].value_counts()"
   ]
  },
  {
   "cell_type": "markdown",
   "metadata": {},
   "source": [
    "### After reducing Action column with specific value 1 by 87.5% we have normalized our dataset. This sort of action will lead to a better performance during training the model\n",
    "### Now it is time to separate input data and labels and split it into train and test datasets"
   ]
  },
  {
   "cell_type": "code",
   "execution_count": 264,
   "metadata": {
    "scrolled": true
   },
   "outputs": [
    {
     "data": {
      "text/html": [
       "<div>\n",
       "<style scoped>\n",
       "    .dataframe tbody tr th:only-of-type {\n",
       "        vertical-align: middle;\n",
       "    }\n",
       "\n",
       "    .dataframe tbody tr th {\n",
       "        vertical-align: top;\n",
       "    }\n",
       "\n",
       "    .dataframe thead th {\n",
       "        text-align: right;\n",
       "    }\n",
       "</style>\n",
       "<table border=\"1\" class=\"dataframe\">\n",
       "  <thead>\n",
       "    <tr style=\"text-align: right;\">\n",
       "      <th></th>\n",
       "      <th>My_position</th>\n",
       "      <th>Left_line</th>\n",
       "      <th>Mid_line</th>\n",
       "      <th>Right_line</th>\n",
       "    </tr>\n",
       "  </thead>\n",
       "  <tbody>\n",
       "    <tr>\n",
       "      <td>0</td>\n",
       "      <td>1.0</td>\n",
       "      <td>7</td>\n",
       "      <td>7</td>\n",
       "      <td>7</td>\n",
       "    </tr>\n",
       "    <tr>\n",
       "      <td>10</td>\n",
       "      <td>0.0</td>\n",
       "      <td>4</td>\n",
       "      <td>0</td>\n",
       "      <td>6</td>\n",
       "    </tr>\n",
       "    <tr>\n",
       "      <td>12</td>\n",
       "      <td>1.0</td>\n",
       "      <td>2</td>\n",
       "      <td>0</td>\n",
       "      <td>4</td>\n",
       "    </tr>\n",
       "    <tr>\n",
       "      <td>13</td>\n",
       "      <td>2.0</td>\n",
       "      <td>1</td>\n",
       "      <td>5</td>\n",
       "      <td>3</td>\n",
       "    </tr>\n",
       "    <tr>\n",
       "      <td>15</td>\n",
       "      <td>1.0</td>\n",
       "      <td>7</td>\n",
       "      <td>3</td>\n",
       "      <td>1</td>\n",
       "    </tr>\n",
       "  </tbody>\n",
       "</table>\n",
       "</div>"
      ],
      "text/plain": [
       "    My_position  Left_line  Mid_line  Right_line\n",
       "0           1.0          7         7           7\n",
       "10          0.0          4         0           6\n",
       "12          1.0          2         0           4\n",
       "13          2.0          1         5           3\n",
       "15          1.0          7         3           1"
      ]
     },
     "execution_count": 264,
     "metadata": {},
     "output_type": "execute_result"
    }
   ],
   "source": [
    "# Remove Action column and assign the rest to the new variable of input data\n",
    "input_data = df.drop('Action',1)\n",
    "input_data.head()"
   ]
  },
  {
   "cell_type": "code",
   "execution_count": 265,
   "metadata": {
    "scrolled": true
   },
   "outputs": [],
   "source": [
    "# Take only Action column to represent labels for the prediction\n",
    "output_data = df['Action']"
   ]
  },
  {
   "cell_type": "code",
   "execution_count": 275,
   "metadata": {
    "scrolled": true
   },
   "outputs": [],
   "source": [
    "# Perform train test split of 20%\n",
    "X_train, X_test, y_train, y_test = train_test_split(input_data, output_data, test_size=0.20, random_state=7)"
   ]
  },
  {
   "cell_type": "code",
   "execution_count": 276,
   "metadata": {},
   "outputs": [],
   "source": [
    "# Prepare train and test labels into categorical model by 1 hot encoding it\n",
    "y_train = keras.utils.to_categorical(y_train, 3)\n",
    "y_test = keras.utils.to_categorical(y_test, 3)"
   ]
  },
  {
   "cell_type": "code",
   "execution_count": 284,
   "metadata": {},
   "outputs": [],
   "source": [
    "# Define the keras model\n",
    "model = Sequential()\n",
    "model.add(Dense(16, input_shape=(4, )))\n",
    "model.add(Activation('relu'))\n",
    "model.add(Dropout(0.5))\n",
    "model.add(Dense(3))\n",
    "model.add(Activation('softmax'))"
   ]
  },
  {
   "cell_type": "code",
   "execution_count": 285,
   "metadata": {},
   "outputs": [],
   "source": [
    "# Compile the previously defined model\n",
    "model.compile(\n",
    "            optimizer='adam',\n",
    "            loss='categorical_crossentropy',\n",
    "            metrics=['accuracy'])"
   ]
  },
  {
   "cell_type": "code",
   "execution_count": 286,
   "metadata": {
    "scrolled": false
   },
   "outputs": [
    {
     "name": "stdout",
     "output_type": "stream",
     "text": [
      "Epoch 1/100\n",
      "4889/4889 [==============================] - 4s 740us/step - loss: 1.8777 - acc: 0.4015\n",
      "Epoch 2/100\n",
      "4889/4889 [==============================] - 1s 300us/step - loss: 0.9562 - acc: 0.5516\n",
      "Epoch 3/100\n",
      "4889/4889 [==============================] - 2s 421us/step - loss: 0.8398 - acc: 0.5997\n",
      "Epoch 4/100\n",
      "4889/4889 [==============================] - 2s 394us/step - loss: 0.7758 - acc: 0.6382\n",
      "Epoch 5/100\n",
      "4889/4889 [==============================] - 2s 314us/step - loss: 0.7122 - acc: 0.6799\n",
      "Epoch 6/100\n",
      "4889/4889 [==============================] - 2s 414us/step - loss: 0.6531 - acc: 0.6911\n",
      "Epoch 7/100\n",
      "4889/4889 [==============================] - 2s 347us/step - loss: 0.6171 - acc: 0.7128\n",
      "Epoch 8/100\n",
      "4889/4889 [==============================] - 2s 357us/step - loss: 0.5997 - acc: 0.7073\n",
      "Epoch 9/100\n",
      "4889/4889 [==============================] - 2s 335us/step - loss: 0.5723 - acc: 0.7388\n",
      "Epoch 10/100\n",
      "4889/4889 [==============================] - 2s 432us/step - loss: 0.5572 - acc: 0.7517\n",
      "Epoch 11/100\n",
      "4889/4889 [==============================] - 2s 373us/step - loss: 0.5332 - acc: 0.7597\n",
      "Epoch 12/100\n",
      "4889/4889 [==============================] - 2s 336us/step - loss: 0.5000 - acc: 0.7910\n",
      "Epoch 13/100\n",
      "4889/4889 [==============================] - 2s 339us/step - loss: 0.4747 - acc: 0.8077\n",
      "Epoch 14/100\n",
      "4889/4889 [==============================] - 2s 344us/step - loss: 0.4578 - acc: 0.8126\n",
      "Epoch 15/100\n",
      "4889/4889 [==============================] - 2s 347us/step - loss: 0.4564 - acc: 0.8128\n",
      "Epoch 16/100\n",
      "4889/4889 [==============================] - 2s 345us/step - loss: 0.4283 - acc: 0.8360\n",
      "Epoch 17/100\n",
      "4889/4889 [==============================] - 2s 355us/step - loss: 0.4178 - acc: 0.8388\n",
      "Epoch 18/100\n",
      "4889/4889 [==============================] - 2s 348us/step - loss: 0.4129 - acc: 0.8448\n",
      "Epoch 19/100\n",
      "4889/4889 [==============================] - 2s 351us/step - loss: 0.3978 - acc: 0.8468\n",
      "Epoch 20/100\n",
      "4889/4889 [==============================] - 2s 360us/step - loss: 0.3818 - acc: 0.8568\n",
      "Epoch 21/100\n",
      "4889/4889 [==============================] - 2s 355us/step - loss: 0.3847 - acc: 0.8517\n",
      "Epoch 22/100\n",
      "4889/4889 [==============================] - 2s 359us/step - loss: 0.3776 - acc: 0.8544\n",
      "Epoch 23/100\n",
      "4889/4889 [==============================] - 2s 357us/step - loss: 0.3711 - acc: 0.8542\n",
      "Epoch 24/100\n",
      "4889/4889 [==============================] - 2s 350us/step - loss: 0.3683 - acc: 0.8648\n",
      "Epoch 25/100\n",
      "4889/4889 [==============================] - 2s 355us/step - loss: 0.3622 - acc: 0.8619\n",
      "Epoch 26/100\n",
      "4889/4889 [==============================] - 2s 358us/step - loss: 0.3577 - acc: 0.8675\n",
      "Epoch 27/100\n",
      "4889/4889 [==============================] - 2s 354us/step - loss: 0.3627 - acc: 0.8611\n",
      "Epoch 28/100\n",
      "4889/4889 [==============================] - 2s 355us/step - loss: 0.3522 - acc: 0.8689\n",
      "Epoch 29/100\n",
      "4889/4889 [==============================] - 2s 357us/step - loss: 0.3340 - acc: 0.8738\n",
      "Epoch 30/100\n",
      "4889/4889 [==============================] - 2s 354us/step - loss: 0.3502 - acc: 0.8673\n",
      "Epoch 31/100\n",
      "4889/4889 [==============================] - 2s 358us/step - loss: 0.3526 - acc: 0.8656\n",
      "Epoch 32/100\n",
      "4889/4889 [==============================] - 2s 358us/step - loss: 0.3430 - acc: 0.8701\n",
      "Epoch 33/100\n",
      "4889/4889 [==============================] - 2s 359us/step - loss: 0.3364 - acc: 0.8705\n",
      "Epoch 34/100\n",
      "4889/4889 [==============================] - 2s 363us/step - loss: 0.3486 - acc: 0.8677\n",
      "Epoch 35/100\n",
      "4889/4889 [==============================] - 2s 360us/step - loss: 0.3324 - acc: 0.8724\n",
      "Epoch 36/100\n",
      "4889/4889 [==============================] - 2s 361us/step - loss: 0.3451 - acc: 0.8699\n",
      "Epoch 37/100\n",
      "4889/4889 [==============================] - 2s 361us/step - loss: 0.3373 - acc: 0.8718\n",
      "Epoch 38/100\n",
      "4889/4889 [==============================] - 2s 364us/step - loss: 0.3334 - acc: 0.8744\n",
      "Epoch 39/100\n",
      "4889/4889 [==============================] - 2s 372us/step - loss: 0.3352 - acc: 0.8756\n",
      "Epoch 40/100\n",
      "4889/4889 [==============================] - 2s 364us/step - loss: 0.3360 - acc: 0.8709\n",
      "Epoch 41/100\n",
      "4889/4889 [==============================] - 2s 362us/step - loss: 0.3249 - acc: 0.8791\n",
      "Epoch 42/100\n",
      "4889/4889 [==============================] - 2s 365us/step - loss: 0.3308 - acc: 0.8754\n",
      "Epoch 43/100\n",
      "4889/4889 [==============================] - 2s 364us/step - loss: 0.3350 - acc: 0.8742\n",
      "Epoch 44/100\n",
      "4889/4889 [==============================] - 2s 366us/step - loss: 0.3345 - acc: 0.8732\n",
      "Epoch 45/100\n",
      "4889/4889 [==============================] - 2s 363us/step - loss: 0.3187 - acc: 0.8795\n",
      "Epoch 46/100\n",
      "4889/4889 [==============================] - 2s 422us/step - loss: 0.3280 - acc: 0.8787\n",
      "Epoch 47/100\n",
      "4889/4889 [==============================] - 2s 393us/step - loss: 0.3255 - acc: 0.8765\n",
      "Epoch 48/100\n",
      "4889/4889 [==============================] - 2s 367us/step - loss: 0.3305 - acc: 0.8746\n",
      "Epoch 49/100\n",
      "4889/4889 [==============================] - 2s 372us/step - loss: 0.3317 - acc: 0.8726\n",
      "Epoch 50/100\n",
      "4889/4889 [==============================] - 2s 372us/step - loss: 0.3188 - acc: 0.8771\n",
      "Epoch 51/100\n",
      "4889/4889 [==============================] - 2s 371us/step - loss: 0.3371 - acc: 0.8703\n",
      "Epoch 52/100\n",
      "4889/4889 [==============================] - 2s 373us/step - loss: 0.3357 - acc: 0.8711\n",
      "Epoch 53/100\n",
      "4889/4889 [==============================] - 2s 382us/step - loss: 0.3256 - acc: 0.8793\n",
      "Epoch 54/100\n",
      "4889/4889 [==============================] - 2s 373us/step - loss: 0.3261 - acc: 0.8771\n",
      "Epoch 55/100\n",
      "4889/4889 [==============================] - 2s 374us/step - loss: 0.3320 - acc: 0.8746\n",
      "Epoch 56/100\n",
      "4889/4889 [==============================] - 2s 377us/step - loss: 0.3236 - acc: 0.8793\n",
      "Epoch 57/100\n",
      "4889/4889 [==============================] - 2s 379us/step - loss: 0.3247 - acc: 0.8789\n",
      "Epoch 58/100\n",
      "4889/4889 [==============================] - 2s 371us/step - loss: 0.3195 - acc: 0.8777\n",
      "Epoch 59/100\n",
      "4889/4889 [==============================] - 2s 370us/step - loss: 0.3275 - acc: 0.8769\n",
      "Epoch 60/100\n",
      "4889/4889 [==============================] - 2s 375us/step - loss: 0.3205 - acc: 0.8818\n",
      "Epoch 61/100\n",
      "4889/4889 [==============================] - 2s 376us/step - loss: 0.3227 - acc: 0.8795\n",
      "Epoch 62/100\n",
      "4889/4889 [==============================] - 2s 374us/step - loss: 0.3245 - acc: 0.8773\n",
      "Epoch 63/100\n",
      "4889/4889 [==============================] - 2s 374us/step - loss: 0.3390 - acc: 0.8691\n",
      "Epoch 64/100\n",
      "4889/4889 [==============================] - 2s 373us/step - loss: 0.3131 - acc: 0.8873\n",
      "Epoch 65/100\n",
      "4889/4889 [==============================] - 2s 371us/step - loss: 0.3281 - acc: 0.8754\n",
      "Epoch 66/100\n",
      "4889/4889 [==============================] - 2s 375us/step - loss: 0.3199 - acc: 0.8801\n",
      "Epoch 67/100\n",
      "4889/4889 [==============================] - 2s 377us/step - loss: 0.3258 - acc: 0.8754\n",
      "Epoch 68/100\n",
      "4889/4889 [==============================] - 2s 377us/step - loss: 0.3219 - acc: 0.8769\n",
      "Epoch 69/100\n",
      "4889/4889 [==============================] - 2s 377us/step - loss: 0.3230 - acc: 0.8791\n",
      "Epoch 70/100\n",
      "4889/4889 [==============================] - 2s 380us/step - loss: 0.3239 - acc: 0.8754\n",
      "Epoch 71/100\n",
      "4889/4889 [==============================] - 2s 436us/step - loss: 0.3301 - acc: 0.8705\n",
      "Epoch 72/100\n",
      "4889/4889 [==============================] - 2s 374us/step - loss: 0.3191 - acc: 0.8799\n",
      "Epoch 73/100\n",
      "4889/4889 [==============================] - 2s 370us/step - loss: 0.3192 - acc: 0.8830\n",
      "Epoch 74/100\n",
      "4889/4889 [==============================] - 2s 374us/step - loss: 0.3295 - acc: 0.8711\n",
      "Epoch 75/100\n",
      "4889/4889 [==============================] - 2s 376us/step - loss: 0.3154 - acc: 0.8830\n",
      "Epoch 76/100\n",
      "4889/4889 [==============================] - 2s 376us/step - loss: 0.3255 - acc: 0.8805\n",
      "Epoch 77/100\n",
      "4889/4889 [==============================] - 2s 372us/step - loss: 0.3149 - acc: 0.8791\n",
      "Epoch 78/100\n",
      "4889/4889 [==============================] - 2s 374us/step - loss: 0.3238 - acc: 0.8779\n",
      "Epoch 79/100\n",
      "4889/4889 [==============================] - 2s 375us/step - loss: 0.3272 - acc: 0.8726\n",
      "Epoch 80/100\n",
      "4889/4889 [==============================] - 2s 374us/step - loss: 0.3358 - acc: 0.8718\n",
      "Epoch 81/100\n",
      "4889/4889 [==============================] - 2s 376us/step - loss: 0.3207 - acc: 0.8781\n",
      "Epoch 82/100\n",
      "4889/4889 [==============================] - 2s 337us/step - loss: 0.3271 - acc: 0.8779\n",
      "Epoch 83/100\n",
      "4889/4889 [==============================] - 2s 331us/step - loss: 0.3104 - acc: 0.8848\n",
      "Epoch 84/100\n",
      "4889/4889 [==============================] - 2s 333us/step - loss: 0.3105 - acc: 0.8848\n",
      "Epoch 85/100\n",
      "4889/4889 [==============================] - 2s 334us/step - loss: 0.3322 - acc: 0.8722\n",
      "Epoch 86/100\n",
      "4889/4889 [==============================] - 2s 331us/step - loss: 0.3151 - acc: 0.8838\n",
      "Epoch 87/100\n",
      "4889/4889 [==============================] - 2s 341us/step - loss: 0.3119 - acc: 0.8838\n",
      "Epoch 88/100\n",
      "4889/4889 [==============================] - 2s 333us/step - loss: 0.3271 - acc: 0.8744\n",
      "Epoch 89/100\n",
      "4889/4889 [==============================] - 2s 343us/step - loss: 0.3193 - acc: 0.8789\n",
      "Epoch 90/100\n",
      "4889/4889 [==============================] - 2s 337us/step - loss: 0.3271 - acc: 0.8758\n",
      "Epoch 91/100\n",
      "4889/4889 [==============================] - 2s 330us/step - loss: 0.3189 - acc: 0.8826\n",
      "Epoch 92/100\n",
      "4889/4889 [==============================] - 2s 330us/step - loss: 0.3163 - acc: 0.8803\n",
      "Epoch 93/100\n",
      "4889/4889 [==============================] - 2s 332us/step - loss: 0.3160 - acc: 0.8797\n",
      "Epoch 94/100\n",
      "4889/4889 [==============================] - 2s 332us/step - loss: 0.3182 - acc: 0.8828\n",
      "Epoch 95/100\n",
      "4889/4889 [==============================] - 2s 332us/step - loss: 0.3221 - acc: 0.8763\n",
      "Epoch 96/100\n",
      "4889/4889 [==============================] - 2s 331us/step - loss: 0.3095 - acc: 0.8844\n",
      "Epoch 97/100\n",
      "4889/4889 [==============================] - 2s 331us/step - loss: 0.3081 - acc: 0.8865\n",
      "Epoch 98/100\n",
      "4889/4889 [==============================] - 2s 331us/step - loss: 0.3177 - acc: 0.8793\n",
      "Epoch 99/100\n",
      "4889/4889 [==============================] - 2s 332us/step - loss: 0.3122 - acc: 0.8830\n",
      "Epoch 100/100\n",
      "4889/4889 [==============================] - 2s 333us/step - loss: 0.3197 - acc: 0.8836\n"
     ]
    },
    {
     "data": {
      "text/plain": [
       "<keras.callbacks.History at 0x1c4c1b0a90>"
      ]
     },
     "execution_count": 286,
     "metadata": {},
     "output_type": "execute_result"
    }
   ],
   "source": [
    "# Train the keras model with the train dataset on 100 epochs with batch size of 10\n",
    "model.fit(X_train, y_train, epochs=100, batch_size=10)"
   ]
  },
  {
   "cell_type": "code",
   "execution_count": 287,
   "metadata": {},
   "outputs": [
    {
     "name": "stdout",
     "output_type": "stream",
     "text": [
      "1223/1223 [==============================] - 0s 209us/step\n",
      "Accuracy: 97.22\n"
     ]
    }
   ],
   "source": [
    "# Evaluate the keras model\n",
    "_, accuracy = model.evaluate(X_test, y_test)\n",
    "print('Accuracy: %.2f' % (accuracy*100))"
   ]
  },
  {
   "cell_type": "code",
   "execution_count": 289,
   "metadata": {},
   "outputs": [],
   "source": [
    "# Creates a HDF5 file 'my_model.h5'\n",
    "model.save('../models/categorical_crossentropy1.h5')"
   ]
  },
  {
   "cell_type": "code",
   "execution_count": null,
   "metadata": {},
   "outputs": [],
   "source": []
  }
 ],
 "metadata": {
  "kernelspec": {
   "display_name": "Python 3",
   "language": "python",
   "name": "python3"
  },
  "language_info": {
   "codemirror_mode": {
    "name": "ipython",
    "version": 3
   },
   "file_extension": ".py",
   "mimetype": "text/x-python",
   "name": "python",
   "nbconvert_exporter": "python",
   "pygments_lexer": "ipython3",
   "version": "3.7.4"
  }
 },
 "nbformat": 4,
 "nbformat_minor": 2
}
